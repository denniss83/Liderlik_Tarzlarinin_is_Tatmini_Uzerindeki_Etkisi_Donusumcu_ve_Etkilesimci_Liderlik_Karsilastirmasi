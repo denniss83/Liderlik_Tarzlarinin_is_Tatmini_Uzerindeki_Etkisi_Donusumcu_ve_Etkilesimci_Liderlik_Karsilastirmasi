{
  "nbformat": 4,
  "nbformat_minor": 0,
  "metadata": {
    "colab": {
      "provenance": [],
      "toc_visible": true,
      "authorship_tag": "ABX9TyNyAvMk0qsarGELjERPETb4",
      "include_colab_link": true
    },
    "kernelspec": {
      "name": "python3",
      "display_name": "Python 3"
    },
    "language_info": {
      "name": "python"
    }
  },
  "cells": [
    {
      "cell_type": "markdown",
      "metadata": {
        "id": "view-in-github",
        "colab_type": "text"
      },
      "source": [
        "<a href=\"https://colab.research.google.com/github/denniss83/Liderlik_Tarzlarinin_is_Tatmini_Uzerindeki_Etkisi_Donusumcu_ve_Etkilesimci_Liderlik_Karsilastirmasi/blob/main/Liderlik_Tarzlar%C4%B1n%C4%B1n_%C4%B0%C5%9F_Tatmini_%C3%9Czerindeki_Etkisi_D%C3%B6n%C3%BC%C5%9F%C3%BCmc%C3%BC_ve_Etkile%C5%9Fimci_Liderlik_Kar%C5%9F%C4%B1la%C5%9Ft%C4%B1rmas%C4%B1.ipynb\" target=\"_parent\"><img src=\"https://colab.research.google.com/assets/colab-badge.svg\" alt=\"Open In Colab\"/></a>"
      ]
    },
    {
      "cell_type": "markdown",
      "source": [
        "# Liderlik Tarzlarının İş Tatmini Üzerindeki Etkisi: Dönüşümcü ve Etkileşimci Liderlik Karşılaştırması\n",
        "\n",
        "Bu çalışma, çalışanların algıladığı iki farklı liderlik tarzının — dönüşümcü (transformational) ve etkileşimci (transactional) — iş tatmini üzerindeki etkilerini analiz etmeyi amaçlamaktadır. Liderlik tarzlarının çalışan memnuniyetiyle nasıl ilişkilendiği ve hangisinin daha etkili olduğu istatistiksel analizlerle karşılaştırılmıştır.\n",
        "\n",
        ">Bu çalışmada kullanılan veri, SPSS formatında (.sav) hazırlanmış özgün bir anket veri setidir. Veri, liderlik tarzlarının çalışan iş tatmini üzerindeki etkilerini analiz etmek amacıyla toplanmıştır. Veri kümesi doğrudan araştırmacı tarafından sağlanmış olup kamuya açık bir platformdan alınmamıştır.\n",
        "\n",
        ">Veri Kümesindeki Ana Değişkenler:\n",
        ">\n",
        ">- Transformational_L: Çalışanların dönüşümcü liderlik algısı puanı\n",
        ">\n",
        ">- Transactional_L: Etkileşimci liderlik algısı puanı\n",
        ">\n",
        ">- Job_Satisfaction: İş tatmini puanı\n",
        ">\n",
        ">- Gender, Age, Education, Experience gibi demografik bilgiler\n",
        ">\n",
        ">Veriler, çalışanlardan alınan anket yanıtlarına dayanmaktadır ve tüm kişisel bilgilerden arındırılarak analiz için uygun hale getirilmiştir.\n",
        "\n",
        "\n",
        "\n",
        "---\n",
        "\n",
        "Bu çalışmada kullanılan veri, Onanuga et al. (2016) tarafından yürütülen alan araştırmasından alınmıştır.\n",
        "\n",
        "Onanuga, P. A., Aminu, A., & Fatoki, O. I. (2016). Transformational and transactional leadership styles and employees’ job satisfaction in Nigerian Universities’ guesthouses. ScienceDirect. https://doi.org/10.1016/j.dib.2018.06.033\n",
        "\n",
        "\n",
        "\n",
        "---\n",
        "\n"
      ],
      "metadata": {
        "id": "QYBcWk_0h8XT"
      }
    },
    {
      "cell_type": "markdown",
      "source": [
        "🔍 Araştırma Yöntemi Hakkında Bilgi;\n",
        "\n",
        "Bu çalışmada, liderlik tarzlarının çalışan iş tatmini üzerindeki etkisini incelemek amacıyla anket tabanlı nicel bir araştırma yöntemi uygulanmıştır. Kullanılan veri, akademik bir çalışmada (Ohunakin et al., 2018) üniversite çalışanlarına uygulanmış ve kamuya açık şekilde paylaşılmış bir anket sonuçlarını içermektedir.\n",
        "\n",
        "Araştırma kapsamında üç temel değişken grubu yer almaktadır:\n",
        "\n",
        "[Dönüşümcü liderlik (Transformational Leadership)](https://en.wikipedia.org/wiki/Leadership#Leadership_styles)\n",
        "\n",
        "[Etkileşimci liderlik (Transactional Leadership)](https://en.wikipedia.org/wiki/Leadership#Leadership_styles)\n",
        "\n",
        "[Çalışan iş tatmini (Job Satisfaction)](https://en.wikipedia.org/wiki/Job_satisfaction)\n",
        "\n",
        ">*(Detaylı bilgi almak isteyenler için kullanılan terimlere wikipedia üzerinden bağlantı linki oluşturulmuştur)*\n",
        "\n",
        "Veri analizi süreci şu adımlarla gerçekleştirilmiştir:\n",
        "\n",
        "Veri Temizliği ve Hazırlığı:\n",
        "Anket verileri SPSS formatından ( .sav ) Python ortamına aktarılmış ve eksik ya da geçersiz kayıtlar temizlenmiştir.\n",
        "\n",
        "Ölçek Puanlarının Hesaplanması:\n",
        "Dönüşümcü ve etkileşimci liderlik ile iş tatmini düzeyini ölçmek için anketin ilgili soruları gruplanmış ve bu grupların ortalama puanları alınarak her katılımcının liderlik algısı ve tatmin düzeyi belirlenmiştir.\n",
        "\n",
        "Tanımlayıcı İstatistikler:\n",
        "Her değişkenin genel dağılımı, ortalama ve standart sapmaları incelenerek temel özet bilgiler elde edilmiştir.\n",
        "\n",
        "❓ Hipotez Testleri:\n",
        "\n",
        "- Bağımlı örneklem [t-testi](https://tr.wikipedia.org/wiki/Student%27in_t_testi) ile dönüşümcü ve etkileşimci liderlik algıları arasındaki fark test edilmiştir.\n",
        "\n",
        "- [Regresyon analizi (OLS)](https://tr.wikipedia.org/wiki/Regresyon_analizi) ile liderlik tarzlarının iş tatmini üzerindeki etkisi sayısal olarak ölçülmüştür.\n",
        "\n",
        "- [ANOVA](https://tr.wikipedia.org/wiki/Varyans_analizi) ile modelin anlamlılığı desteklenmiştir.\n",
        "\n",
        "\n",
        "\n",
        "---\n",
        "\n"
      ],
      "metadata": {
        "id": "SBuFkCRUq5tv"
      }
    },
    {
      "cell_type": "markdown",
      "source": [
        " # Gerekli Kütüphaneler"
      ],
      "metadata": {
        "id": "yEm89aY0kCr_"
      }
    },
    {
      "cell_type": "code",
      "source": [
        "!pip install pyreadstat"
      ],
      "metadata": {
        "colab": {
          "base_uri": "https://localhost:8080/"
        },
        "id": "6p-ObGfqbkqx",
        "outputId": "adc0f66d-73b8-41f6-f478-461c67faad45",
        "collapsed": true
      },
      "execution_count": 2,
      "outputs": [
        {
          "output_type": "stream",
          "name": "stdout",
          "text": [
            "Collecting pyreadstat\n",
            "  Downloading pyreadstat-1.3.0-cp311-cp311-manylinux2014_x86_64.manylinux_2_17_x86_64.whl.metadata (1.3 kB)\n",
            "Requirement already satisfied: pandas>=1.2.0 in /usr/local/lib/python3.11/dist-packages (from pyreadstat) (2.2.2)\n",
            "Requirement already satisfied: numpy>=1.23.2 in /usr/local/lib/python3.11/dist-packages (from pandas>=1.2.0->pyreadstat) (2.0.2)\n",
            "Requirement already satisfied: python-dateutil>=2.8.2 in /usr/local/lib/python3.11/dist-packages (from pandas>=1.2.0->pyreadstat) (2.9.0.post0)\n",
            "Requirement already satisfied: pytz>=2020.1 in /usr/local/lib/python3.11/dist-packages (from pandas>=1.2.0->pyreadstat) (2025.2)\n",
            "Requirement already satisfied: tzdata>=2022.7 in /usr/local/lib/python3.11/dist-packages (from pandas>=1.2.0->pyreadstat) (2025.2)\n",
            "Requirement already satisfied: six>=1.5 in /usr/local/lib/python3.11/dist-packages (from python-dateutil>=2.8.2->pandas>=1.2.0->pyreadstat) (1.17.0)\n",
            "Downloading pyreadstat-1.3.0-cp311-cp311-manylinux2014_x86_64.manylinux_2_17_x86_64.whl (620 kB)\n",
            "\u001b[?25l   \u001b[90m━━━━━━━━━━━━━━━━━━━━━━━━━━━━━━━━━━━━━━━━\u001b[0m \u001b[32m0.0/620.1 kB\u001b[0m \u001b[31m?\u001b[0m eta \u001b[36m-:--:--\u001b[0m\r\u001b[2K   \u001b[91m━━━━━━━━━━━━━━━━━━━━━━━━━━━━━━━━━━━━━━━\u001b[0m\u001b[91m╸\u001b[0m \u001b[32m614.4/620.1 kB\u001b[0m \u001b[31m18.5 MB/s\u001b[0m eta \u001b[36m0:00:01\u001b[0m\r\u001b[2K   \u001b[90m━━━━━━━━━━━━━━━━━━━━━━━━━━━━━━━━━━━━━━━━\u001b[0m \u001b[32m620.1/620.1 kB\u001b[0m \u001b[31m13.0 MB/s\u001b[0m eta \u001b[36m0:00:00\u001b[0m\n",
            "\u001b[?25hInstalling collected packages: pyreadstat\n",
            "Successfully installed pyreadstat-1.3.0\n"
          ]
        }
      ]
    },
    {
      "cell_type": "code",
      "source": [
        "import pandas as pd\n",
        "import numpy as np\n",
        "import seaborn as sns\n",
        "import matplotlib.pyplot as plt\n",
        "import pyreadstat\n",
        "from scipy import stats\n",
        "import warnings\n",
        "import statsmodels.api as sm\n",
        "\n",
        "warnings.filterwarnings(\"ignore\")\n",
        "\n",
        "sns.set_style(\"whitegrid\")\n",
        "\n"
      ],
      "metadata": {
        "id": "C7_cJSJHbarL"
      },
      "execution_count": 3,
      "outputs": []
    },
    {
      "cell_type": "markdown",
      "source": [
        "# Veri Yükleme ve İnceleme\n",
        "\n",
        ">Veri Türü: Anket verisi (.sav formatında)"
      ],
      "metadata": {
        "id": "6vJoy2xDiKEK"
      }
    },
    {
      "cell_type": "code",
      "source": [
        "from google.colab import files\n",
        "uploaded = files.upload()"
      ],
      "metadata": {
        "colab": {
          "base_uri": "https://localhost:8080/",
          "height": 73
        },
        "id": "KK9rLoOscWm3",
        "outputId": "897b6854-8cb0-42d1-9791-2598bc8c2fda"
      },
      "execution_count": 4,
      "outputs": [
        {
          "output_type": "display_data",
          "data": {
            "text/plain": [
              "<IPython.core.display.HTML object>"
            ],
            "text/html": [
              "\n",
              "     <input type=\"file\" id=\"files-a1ca9b8b-c3a0-404d-8295-9b2a16ab2e3e\" name=\"files[]\" multiple disabled\n",
              "        style=\"border:none\" />\n",
              "     <output id=\"result-a1ca9b8b-c3a0-404d-8295-9b2a16ab2e3e\">\n",
              "      Upload widget is only available when the cell has been executed in the\n",
              "      current browser session. Please rerun this cell to enable.\n",
              "      </output>\n",
              "      <script>// Copyright 2017 Google LLC\n",
              "//\n",
              "// Licensed under the Apache License, Version 2.0 (the \"License\");\n",
              "// you may not use this file except in compliance with the License.\n",
              "// You may obtain a copy of the License at\n",
              "//\n",
              "//      http://www.apache.org/licenses/LICENSE-2.0\n",
              "//\n",
              "// Unless required by applicable law or agreed to in writing, software\n",
              "// distributed under the License is distributed on an \"AS IS\" BASIS,\n",
              "// WITHOUT WARRANTIES OR CONDITIONS OF ANY KIND, either express or implied.\n",
              "// See the License for the specific language governing permissions and\n",
              "// limitations under the License.\n",
              "\n",
              "/**\n",
              " * @fileoverview Helpers for google.colab Python module.\n",
              " */\n",
              "(function(scope) {\n",
              "function span(text, styleAttributes = {}) {\n",
              "  const element = document.createElement('span');\n",
              "  element.textContent = text;\n",
              "  for (const key of Object.keys(styleAttributes)) {\n",
              "    element.style[key] = styleAttributes[key];\n",
              "  }\n",
              "  return element;\n",
              "}\n",
              "\n",
              "// Max number of bytes which will be uploaded at a time.\n",
              "const MAX_PAYLOAD_SIZE = 100 * 1024;\n",
              "\n",
              "function _uploadFiles(inputId, outputId) {\n",
              "  const steps = uploadFilesStep(inputId, outputId);\n",
              "  const outputElement = document.getElementById(outputId);\n",
              "  // Cache steps on the outputElement to make it available for the next call\n",
              "  // to uploadFilesContinue from Python.\n",
              "  outputElement.steps = steps;\n",
              "\n",
              "  return _uploadFilesContinue(outputId);\n",
              "}\n",
              "\n",
              "// This is roughly an async generator (not supported in the browser yet),\n",
              "// where there are multiple asynchronous steps and the Python side is going\n",
              "// to poll for completion of each step.\n",
              "// This uses a Promise to block the python side on completion of each step,\n",
              "// then passes the result of the previous step as the input to the next step.\n",
              "function _uploadFilesContinue(outputId) {\n",
              "  const outputElement = document.getElementById(outputId);\n",
              "  const steps = outputElement.steps;\n",
              "\n",
              "  const next = steps.next(outputElement.lastPromiseValue);\n",
              "  return Promise.resolve(next.value.promise).then((value) => {\n",
              "    // Cache the last promise value to make it available to the next\n",
              "    // step of the generator.\n",
              "    outputElement.lastPromiseValue = value;\n",
              "    return next.value.response;\n",
              "  });\n",
              "}\n",
              "\n",
              "/**\n",
              " * Generator function which is called between each async step of the upload\n",
              " * process.\n",
              " * @param {string} inputId Element ID of the input file picker element.\n",
              " * @param {string} outputId Element ID of the output display.\n",
              " * @return {!Iterable<!Object>} Iterable of next steps.\n",
              " */\n",
              "function* uploadFilesStep(inputId, outputId) {\n",
              "  const inputElement = document.getElementById(inputId);\n",
              "  inputElement.disabled = false;\n",
              "\n",
              "  const outputElement = document.getElementById(outputId);\n",
              "  outputElement.innerHTML = '';\n",
              "\n",
              "  const pickedPromise = new Promise((resolve) => {\n",
              "    inputElement.addEventListener('change', (e) => {\n",
              "      resolve(e.target.files);\n",
              "    });\n",
              "  });\n",
              "\n",
              "  const cancel = document.createElement('button');\n",
              "  inputElement.parentElement.appendChild(cancel);\n",
              "  cancel.textContent = 'Cancel upload';\n",
              "  const cancelPromise = new Promise((resolve) => {\n",
              "    cancel.onclick = () => {\n",
              "      resolve(null);\n",
              "    };\n",
              "  });\n",
              "\n",
              "  // Wait for the user to pick the files.\n",
              "  const files = yield {\n",
              "    promise: Promise.race([pickedPromise, cancelPromise]),\n",
              "    response: {\n",
              "      action: 'starting',\n",
              "    }\n",
              "  };\n",
              "\n",
              "  cancel.remove();\n",
              "\n",
              "  // Disable the input element since further picks are not allowed.\n",
              "  inputElement.disabled = true;\n",
              "\n",
              "  if (!files) {\n",
              "    return {\n",
              "      response: {\n",
              "        action: 'complete',\n",
              "      }\n",
              "    };\n",
              "  }\n",
              "\n",
              "  for (const file of files) {\n",
              "    const li = document.createElement('li');\n",
              "    li.append(span(file.name, {fontWeight: 'bold'}));\n",
              "    li.append(span(\n",
              "        `(${file.type || 'n/a'}) - ${file.size} bytes, ` +\n",
              "        `last modified: ${\n",
              "            file.lastModifiedDate ? file.lastModifiedDate.toLocaleDateString() :\n",
              "                                    'n/a'} - `));\n",
              "    const percent = span('0% done');\n",
              "    li.appendChild(percent);\n",
              "\n",
              "    outputElement.appendChild(li);\n",
              "\n",
              "    const fileDataPromise = new Promise((resolve) => {\n",
              "      const reader = new FileReader();\n",
              "      reader.onload = (e) => {\n",
              "        resolve(e.target.result);\n",
              "      };\n",
              "      reader.readAsArrayBuffer(file);\n",
              "    });\n",
              "    // Wait for the data to be ready.\n",
              "    let fileData = yield {\n",
              "      promise: fileDataPromise,\n",
              "      response: {\n",
              "        action: 'continue',\n",
              "      }\n",
              "    };\n",
              "\n",
              "    // Use a chunked sending to avoid message size limits. See b/62115660.\n",
              "    let position = 0;\n",
              "    do {\n",
              "      const length = Math.min(fileData.byteLength - position, MAX_PAYLOAD_SIZE);\n",
              "      const chunk = new Uint8Array(fileData, position, length);\n",
              "      position += length;\n",
              "\n",
              "      const base64 = btoa(String.fromCharCode.apply(null, chunk));\n",
              "      yield {\n",
              "        response: {\n",
              "          action: 'append',\n",
              "          file: file.name,\n",
              "          data: base64,\n",
              "        },\n",
              "      };\n",
              "\n",
              "      let percentDone = fileData.byteLength === 0 ?\n",
              "          100 :\n",
              "          Math.round((position / fileData.byteLength) * 100);\n",
              "      percent.textContent = `${percentDone}% done`;\n",
              "\n",
              "    } while (position < fileData.byteLength);\n",
              "  }\n",
              "\n",
              "  // All done.\n",
              "  yield {\n",
              "    response: {\n",
              "      action: 'complete',\n",
              "    }\n",
              "  };\n",
              "}\n",
              "\n",
              "scope.google = scope.google || {};\n",
              "scope.google.colab = scope.google.colab || {};\n",
              "scope.google.colab._files = {\n",
              "  _uploadFiles,\n",
              "  _uploadFilesContinue,\n",
              "};\n",
              "})(self);\n",
              "</script> "
            ]
          },
          "metadata": {}
        },
        {
          "output_type": "stream",
          "name": "stdout",
          "text": [
            "Saving 1.sav to 1.sav\n"
          ]
        }
      ]
    },
    {
      "cell_type": "code",
      "source": [
        "df, meta = pyreadstat.read_sav(\"1.sav\")\n",
        "\n",
        "df.head()"
      ],
      "metadata": {
        "colab": {
          "base_uri": "https://localhost:8080/",
          "height": 236
        },
        "id": "Em8H7TSIdE6B",
        "outputId": "402c5aaf-5311-44cd-94b9-31ce0c330870"
      },
      "execution_count": 5,
      "outputs": [
        {
          "output_type": "execute_result",
          "data": {
            "text/plain": [
              "   Gender  Age  Marital  Education  TLS1  TLS2  TLS3  TLS4  TLS5  TLS6  ...  \\\n",
              "0     1.0  2.0      1.0        4.0   6.0   6.0   6.0   2.0   4.0   6.0  ...   \n",
              "1     2.0  1.0      1.0        4.0   6.0   6.0   6.0   5.0   2.0   4.0  ...   \n",
              "2     2.0  2.0      2.0        3.0   6.0   6.0   6.0   6.0   6.0   6.0  ...   \n",
              "3     1.0  2.0      2.0        5.0   6.0   6.0   4.0   6.0   5.0   6.0  ...   \n",
              "4     2.0  2.0      2.0        4.0   6.0   6.0   6.0   6.0   6.0   5.0  ...   \n",
              "\n",
              "   WC  SA  OP  SS  JSc  IDI2  IM2  IS2  IC2  JSc2  \n",
              "0 NaN NaN NaN NaN  NaN   4.8  5.2  4.4  6.0   3.4  \n",
              "1 NaN NaN NaN NaN  NaN   5.0  4.0  4.8  4.6   4.8  \n",
              "2 NaN NaN NaN NaN  NaN   6.0  6.0  6.0  6.0   6.0  \n",
              "3 NaN NaN NaN NaN  NaN   5.4  5.6  5.6  6.0   3.4  \n",
              "4 NaN NaN NaN NaN  NaN   6.0  5.0  5.0  5.0   4.4  \n",
              "\n",
              "[5 rows x 81 columns]"
            ],
            "text/html": [
              "\n",
              "  <div id=\"df-85d6b25e-d64b-49b3-87f4-957880cf5028\" class=\"colab-df-container\">\n",
              "    <div>\n",
              "<style scoped>\n",
              "    .dataframe tbody tr th:only-of-type {\n",
              "        vertical-align: middle;\n",
              "    }\n",
              "\n",
              "    .dataframe tbody tr th {\n",
              "        vertical-align: top;\n",
              "    }\n",
              "\n",
              "    .dataframe thead th {\n",
              "        text-align: right;\n",
              "    }\n",
              "</style>\n",
              "<table border=\"1\" class=\"dataframe\">\n",
              "  <thead>\n",
              "    <tr style=\"text-align: right;\">\n",
              "      <th></th>\n",
              "      <th>Gender</th>\n",
              "      <th>Age</th>\n",
              "      <th>Marital</th>\n",
              "      <th>Education</th>\n",
              "      <th>TLS1</th>\n",
              "      <th>TLS2</th>\n",
              "      <th>TLS3</th>\n",
              "      <th>TLS4</th>\n",
              "      <th>TLS5</th>\n",
              "      <th>TLS6</th>\n",
              "      <th>...</th>\n",
              "      <th>WC</th>\n",
              "      <th>SA</th>\n",
              "      <th>OP</th>\n",
              "      <th>SS</th>\n",
              "      <th>JSc</th>\n",
              "      <th>IDI2</th>\n",
              "      <th>IM2</th>\n",
              "      <th>IS2</th>\n",
              "      <th>IC2</th>\n",
              "      <th>JSc2</th>\n",
              "    </tr>\n",
              "  </thead>\n",
              "  <tbody>\n",
              "    <tr>\n",
              "      <th>0</th>\n",
              "      <td>1.0</td>\n",
              "      <td>2.0</td>\n",
              "      <td>1.0</td>\n",
              "      <td>4.0</td>\n",
              "      <td>6.0</td>\n",
              "      <td>6.0</td>\n",
              "      <td>6.0</td>\n",
              "      <td>2.0</td>\n",
              "      <td>4.0</td>\n",
              "      <td>6.0</td>\n",
              "      <td>...</td>\n",
              "      <td>NaN</td>\n",
              "      <td>NaN</td>\n",
              "      <td>NaN</td>\n",
              "      <td>NaN</td>\n",
              "      <td>NaN</td>\n",
              "      <td>4.8</td>\n",
              "      <td>5.2</td>\n",
              "      <td>4.4</td>\n",
              "      <td>6.0</td>\n",
              "      <td>3.4</td>\n",
              "    </tr>\n",
              "    <tr>\n",
              "      <th>1</th>\n",
              "      <td>2.0</td>\n",
              "      <td>1.0</td>\n",
              "      <td>1.0</td>\n",
              "      <td>4.0</td>\n",
              "      <td>6.0</td>\n",
              "      <td>6.0</td>\n",
              "      <td>6.0</td>\n",
              "      <td>5.0</td>\n",
              "      <td>2.0</td>\n",
              "      <td>4.0</td>\n",
              "      <td>...</td>\n",
              "      <td>NaN</td>\n",
              "      <td>NaN</td>\n",
              "      <td>NaN</td>\n",
              "      <td>NaN</td>\n",
              "      <td>NaN</td>\n",
              "      <td>5.0</td>\n",
              "      <td>4.0</td>\n",
              "      <td>4.8</td>\n",
              "      <td>4.6</td>\n",
              "      <td>4.8</td>\n",
              "    </tr>\n",
              "    <tr>\n",
              "      <th>2</th>\n",
              "      <td>2.0</td>\n",
              "      <td>2.0</td>\n",
              "      <td>2.0</td>\n",
              "      <td>3.0</td>\n",
              "      <td>6.0</td>\n",
              "      <td>6.0</td>\n",
              "      <td>6.0</td>\n",
              "      <td>6.0</td>\n",
              "      <td>6.0</td>\n",
              "      <td>6.0</td>\n",
              "      <td>...</td>\n",
              "      <td>NaN</td>\n",
              "      <td>NaN</td>\n",
              "      <td>NaN</td>\n",
              "      <td>NaN</td>\n",
              "      <td>NaN</td>\n",
              "      <td>6.0</td>\n",
              "      <td>6.0</td>\n",
              "      <td>6.0</td>\n",
              "      <td>6.0</td>\n",
              "      <td>6.0</td>\n",
              "    </tr>\n",
              "    <tr>\n",
              "      <th>3</th>\n",
              "      <td>1.0</td>\n",
              "      <td>2.0</td>\n",
              "      <td>2.0</td>\n",
              "      <td>5.0</td>\n",
              "      <td>6.0</td>\n",
              "      <td>6.0</td>\n",
              "      <td>4.0</td>\n",
              "      <td>6.0</td>\n",
              "      <td>5.0</td>\n",
              "      <td>6.0</td>\n",
              "      <td>...</td>\n",
              "      <td>NaN</td>\n",
              "      <td>NaN</td>\n",
              "      <td>NaN</td>\n",
              "      <td>NaN</td>\n",
              "      <td>NaN</td>\n",
              "      <td>5.4</td>\n",
              "      <td>5.6</td>\n",
              "      <td>5.6</td>\n",
              "      <td>6.0</td>\n",
              "      <td>3.4</td>\n",
              "    </tr>\n",
              "    <tr>\n",
              "      <th>4</th>\n",
              "      <td>2.0</td>\n",
              "      <td>2.0</td>\n",
              "      <td>2.0</td>\n",
              "      <td>4.0</td>\n",
              "      <td>6.0</td>\n",
              "      <td>6.0</td>\n",
              "      <td>6.0</td>\n",
              "      <td>6.0</td>\n",
              "      <td>6.0</td>\n",
              "      <td>5.0</td>\n",
              "      <td>...</td>\n",
              "      <td>NaN</td>\n",
              "      <td>NaN</td>\n",
              "      <td>NaN</td>\n",
              "      <td>NaN</td>\n",
              "      <td>NaN</td>\n",
              "      <td>6.0</td>\n",
              "      <td>5.0</td>\n",
              "      <td>5.0</td>\n",
              "      <td>5.0</td>\n",
              "      <td>4.4</td>\n",
              "    </tr>\n",
              "  </tbody>\n",
              "</table>\n",
              "<p>5 rows × 81 columns</p>\n",
              "</div>\n",
              "    <div class=\"colab-df-buttons\">\n",
              "\n",
              "  <div class=\"colab-df-container\">\n",
              "    <button class=\"colab-df-convert\" onclick=\"convertToInteractive('df-85d6b25e-d64b-49b3-87f4-957880cf5028')\"\n",
              "            title=\"Convert this dataframe to an interactive table.\"\n",
              "            style=\"display:none;\">\n",
              "\n",
              "  <svg xmlns=\"http://www.w3.org/2000/svg\" height=\"24px\" viewBox=\"0 -960 960 960\">\n",
              "    <path d=\"M120-120v-720h720v720H120Zm60-500h600v-160H180v160Zm220 220h160v-160H400v160Zm0 220h160v-160H400v160ZM180-400h160v-160H180v160Zm440 0h160v-160H620v160ZM180-180h160v-160H180v160Zm440 0h160v-160H620v160Z\"/>\n",
              "  </svg>\n",
              "    </button>\n",
              "\n",
              "  <style>\n",
              "    .colab-df-container {\n",
              "      display:flex;\n",
              "      gap: 12px;\n",
              "    }\n",
              "\n",
              "    .colab-df-convert {\n",
              "      background-color: #E8F0FE;\n",
              "      border: none;\n",
              "      border-radius: 50%;\n",
              "      cursor: pointer;\n",
              "      display: none;\n",
              "      fill: #1967D2;\n",
              "      height: 32px;\n",
              "      padding: 0 0 0 0;\n",
              "      width: 32px;\n",
              "    }\n",
              "\n",
              "    .colab-df-convert:hover {\n",
              "      background-color: #E2EBFA;\n",
              "      box-shadow: 0px 1px 2px rgba(60, 64, 67, 0.3), 0px 1px 3px 1px rgba(60, 64, 67, 0.15);\n",
              "      fill: #174EA6;\n",
              "    }\n",
              "\n",
              "    .colab-df-buttons div {\n",
              "      margin-bottom: 4px;\n",
              "    }\n",
              "\n",
              "    [theme=dark] .colab-df-convert {\n",
              "      background-color: #3B4455;\n",
              "      fill: #D2E3FC;\n",
              "    }\n",
              "\n",
              "    [theme=dark] .colab-df-convert:hover {\n",
              "      background-color: #434B5C;\n",
              "      box-shadow: 0px 1px 3px 1px rgba(0, 0, 0, 0.15);\n",
              "      filter: drop-shadow(0px 1px 2px rgba(0, 0, 0, 0.3));\n",
              "      fill: #FFFFFF;\n",
              "    }\n",
              "  </style>\n",
              "\n",
              "    <script>\n",
              "      const buttonEl =\n",
              "        document.querySelector('#df-85d6b25e-d64b-49b3-87f4-957880cf5028 button.colab-df-convert');\n",
              "      buttonEl.style.display =\n",
              "        google.colab.kernel.accessAllowed ? 'block' : 'none';\n",
              "\n",
              "      async function convertToInteractive(key) {\n",
              "        const element = document.querySelector('#df-85d6b25e-d64b-49b3-87f4-957880cf5028');\n",
              "        const dataTable =\n",
              "          await google.colab.kernel.invokeFunction('convertToInteractive',\n",
              "                                                    [key], {});\n",
              "        if (!dataTable) return;\n",
              "\n",
              "        const docLinkHtml = 'Like what you see? Visit the ' +\n",
              "          '<a target=\"_blank\" href=https://colab.research.google.com/notebooks/data_table.ipynb>data table notebook</a>'\n",
              "          + ' to learn more about interactive tables.';\n",
              "        element.innerHTML = '';\n",
              "        dataTable['output_type'] = 'display_data';\n",
              "        await google.colab.output.renderOutput(dataTable, element);\n",
              "        const docLink = document.createElement('div');\n",
              "        docLink.innerHTML = docLinkHtml;\n",
              "        element.appendChild(docLink);\n",
              "      }\n",
              "    </script>\n",
              "  </div>\n",
              "\n",
              "\n",
              "    <div id=\"df-ec5bf084-2708-4ea3-9b45-b9b18c8dcd5f\">\n",
              "      <button class=\"colab-df-quickchart\" onclick=\"quickchart('df-ec5bf084-2708-4ea3-9b45-b9b18c8dcd5f')\"\n",
              "                title=\"Suggest charts\"\n",
              "                style=\"display:none;\">\n",
              "\n",
              "<svg xmlns=\"http://www.w3.org/2000/svg\" height=\"24px\"viewBox=\"0 0 24 24\"\n",
              "     width=\"24px\">\n",
              "    <g>\n",
              "        <path d=\"M19 3H5c-1.1 0-2 .9-2 2v14c0 1.1.9 2 2 2h14c1.1 0 2-.9 2-2V5c0-1.1-.9-2-2-2zM9 17H7v-7h2v7zm4 0h-2V7h2v10zm4 0h-2v-4h2v4z\"/>\n",
              "    </g>\n",
              "</svg>\n",
              "      </button>\n",
              "\n",
              "<style>\n",
              "  .colab-df-quickchart {\n",
              "      --bg-color: #E8F0FE;\n",
              "      --fill-color: #1967D2;\n",
              "      --hover-bg-color: #E2EBFA;\n",
              "      --hover-fill-color: #174EA6;\n",
              "      --disabled-fill-color: #AAA;\n",
              "      --disabled-bg-color: #DDD;\n",
              "  }\n",
              "\n",
              "  [theme=dark] .colab-df-quickchart {\n",
              "      --bg-color: #3B4455;\n",
              "      --fill-color: #D2E3FC;\n",
              "      --hover-bg-color: #434B5C;\n",
              "      --hover-fill-color: #FFFFFF;\n",
              "      --disabled-bg-color: #3B4455;\n",
              "      --disabled-fill-color: #666;\n",
              "  }\n",
              "\n",
              "  .colab-df-quickchart {\n",
              "    background-color: var(--bg-color);\n",
              "    border: none;\n",
              "    border-radius: 50%;\n",
              "    cursor: pointer;\n",
              "    display: none;\n",
              "    fill: var(--fill-color);\n",
              "    height: 32px;\n",
              "    padding: 0;\n",
              "    width: 32px;\n",
              "  }\n",
              "\n",
              "  .colab-df-quickchart:hover {\n",
              "    background-color: var(--hover-bg-color);\n",
              "    box-shadow: 0 1px 2px rgba(60, 64, 67, 0.3), 0 1px 3px 1px rgba(60, 64, 67, 0.15);\n",
              "    fill: var(--button-hover-fill-color);\n",
              "  }\n",
              "\n",
              "  .colab-df-quickchart-complete:disabled,\n",
              "  .colab-df-quickchart-complete:disabled:hover {\n",
              "    background-color: var(--disabled-bg-color);\n",
              "    fill: var(--disabled-fill-color);\n",
              "    box-shadow: none;\n",
              "  }\n",
              "\n",
              "  .colab-df-spinner {\n",
              "    border: 2px solid var(--fill-color);\n",
              "    border-color: transparent;\n",
              "    border-bottom-color: var(--fill-color);\n",
              "    animation:\n",
              "      spin 1s steps(1) infinite;\n",
              "  }\n",
              "\n",
              "  @keyframes spin {\n",
              "    0% {\n",
              "      border-color: transparent;\n",
              "      border-bottom-color: var(--fill-color);\n",
              "      border-left-color: var(--fill-color);\n",
              "    }\n",
              "    20% {\n",
              "      border-color: transparent;\n",
              "      border-left-color: var(--fill-color);\n",
              "      border-top-color: var(--fill-color);\n",
              "    }\n",
              "    30% {\n",
              "      border-color: transparent;\n",
              "      border-left-color: var(--fill-color);\n",
              "      border-top-color: var(--fill-color);\n",
              "      border-right-color: var(--fill-color);\n",
              "    }\n",
              "    40% {\n",
              "      border-color: transparent;\n",
              "      border-right-color: var(--fill-color);\n",
              "      border-top-color: var(--fill-color);\n",
              "    }\n",
              "    60% {\n",
              "      border-color: transparent;\n",
              "      border-right-color: var(--fill-color);\n",
              "    }\n",
              "    80% {\n",
              "      border-color: transparent;\n",
              "      border-right-color: var(--fill-color);\n",
              "      border-bottom-color: var(--fill-color);\n",
              "    }\n",
              "    90% {\n",
              "      border-color: transparent;\n",
              "      border-bottom-color: var(--fill-color);\n",
              "    }\n",
              "  }\n",
              "</style>\n",
              "\n",
              "      <script>\n",
              "        async function quickchart(key) {\n",
              "          const quickchartButtonEl =\n",
              "            document.querySelector('#' + key + ' button');\n",
              "          quickchartButtonEl.disabled = true;  // To prevent multiple clicks.\n",
              "          quickchartButtonEl.classList.add('colab-df-spinner');\n",
              "          try {\n",
              "            const charts = await google.colab.kernel.invokeFunction(\n",
              "                'suggestCharts', [key], {});\n",
              "          } catch (error) {\n",
              "            console.error('Error during call to suggestCharts:', error);\n",
              "          }\n",
              "          quickchartButtonEl.classList.remove('colab-df-spinner');\n",
              "          quickchartButtonEl.classList.add('colab-df-quickchart-complete');\n",
              "        }\n",
              "        (() => {\n",
              "          let quickchartButtonEl =\n",
              "            document.querySelector('#df-ec5bf084-2708-4ea3-9b45-b9b18c8dcd5f button');\n",
              "          quickchartButtonEl.style.display =\n",
              "            google.colab.kernel.accessAllowed ? 'block' : 'none';\n",
              "        })();\n",
              "      </script>\n",
              "    </div>\n",
              "\n",
              "    </div>\n",
              "  </div>\n"
            ],
            "application/vnd.google.colaboratory.intrinsic+json": {
              "type": "dataframe",
              "variable_name": "df"
            }
          },
          "metadata": {},
          "execution_count": 5
        }
      ]
    },
    {
      "cell_type": "markdown",
      "source": [
        "#Veri Temizleme ve Yeni Değişkenlerin Oluşturulması\n",
        ">İş tatmini, dönüşümcü ve etkileşimci liderlik için ortalama puanlar hesaplanmış ve yeni sütunlar oluşturulmuştur.\n",
        "\n",
        ">Ortalama alınarak her bir katılımcı için:Tek bir Transformational_L puanı,Tek bir Transactional_L puanı,Tek bir Job_Satisfaction puanı oluşur ve bu sayede istatistiksel modelleme (örneğin regresyon) yapılabilir.\n",
        "\n"
      ],
      "metadata": {
        "id": "JBdIL_c5kZfj"
      }
    },
    {
      "cell_type": "code",
      "source": [
        "print(df.columns.tolist())\n",
        "\n",
        "missing = df.isnull().mean().sort_values(ascending=False)\n",
        "missing[missing > 0].head(15)"
      ],
      "metadata": {
        "colab": {
          "base_uri": "https://localhost:8080/",
          "height": 278
        },
        "id": "7aP-RVildU0-",
        "outputId": "095a7076-db00-4c28-df81-f3fcc53a370f"
      },
      "execution_count": 6,
      "outputs": [
        {
          "output_type": "stream",
          "name": "stdout",
          "text": [
            "['Gender', 'Age', 'Marital', 'Education', 'TLS1', 'TLS2', 'TLS3', 'TLS4', 'TLS5', 'TLS6', 'TLS7', 'TLS8', 'TLS9', 'TLS10', 'TLS11', 'TLS12', 'TLS13', 'TLS14', 'TLS15', 'TLS16', 'TLS17', 'TLS18', 'TLS19', 'TLS20', 'TRLS21', 'TRLS22', 'TRLS23', 'TRLS24', 'TRLS25', 'TRLS26', 'TRLS27', 'TRLS28', 'TRLS29', 'TRLS30', 'TRLS31', 'TRLS32', 'TRLS33', 'TRLS34', 'TRLS35', 'JS36', 'JS37', 'JS38', 'JS39', 'JS40', 'JS41', 'JS42', 'JS43', 'JS44', 'JS45', 'JS46', 'JS47', 'JS48', 'JS49', 'JS50', 'JS51', 'JS52', 'JS53', 'JS54', 'JS55', 'JS56', 'JS57', 'JS58', 'JS59', 'JS60', 'IDI', 'IM', 'IS', 'IC', 'CR', 'MEA', 'MEP', 'WC', 'SA', 'OP', 'SS', 'JSc', 'IDI2', 'IM2', 'IS2', 'IC2', 'JSc2']\n"
          ]
        },
        {
          "output_type": "execute_result",
          "data": {
            "text/plain": [
              "JSc    1.0\n",
              "WC     1.0\n",
              "SS     1.0\n",
              "SA     1.0\n",
              "OP     1.0\n",
              "dtype: float64"
            ],
            "text/html": [
              "<div>\n",
              "<style scoped>\n",
              "    .dataframe tbody tr th:only-of-type {\n",
              "        vertical-align: middle;\n",
              "    }\n",
              "\n",
              "    .dataframe tbody tr th {\n",
              "        vertical-align: top;\n",
              "    }\n",
              "\n",
              "    .dataframe thead th {\n",
              "        text-align: right;\n",
              "    }\n",
              "</style>\n",
              "<table border=\"1\" class=\"dataframe\">\n",
              "  <thead>\n",
              "    <tr style=\"text-align: right;\">\n",
              "      <th></th>\n",
              "      <th>0</th>\n",
              "    </tr>\n",
              "  </thead>\n",
              "  <tbody>\n",
              "    <tr>\n",
              "      <th>JSc</th>\n",
              "      <td>1.0</td>\n",
              "    </tr>\n",
              "    <tr>\n",
              "      <th>WC</th>\n",
              "      <td>1.0</td>\n",
              "    </tr>\n",
              "    <tr>\n",
              "      <th>SS</th>\n",
              "      <td>1.0</td>\n",
              "    </tr>\n",
              "    <tr>\n",
              "      <th>SA</th>\n",
              "      <td>1.0</td>\n",
              "    </tr>\n",
              "    <tr>\n",
              "      <th>OP</th>\n",
              "      <td>1.0</td>\n",
              "    </tr>\n",
              "  </tbody>\n",
              "</table>\n",
              "</div><br><label><b>dtype:</b> float64</label>"
            ]
          },
          "metadata": {},
          "execution_count": 6
        }
      ]
    },
    {
      "cell_type": "code",
      "source": [
        "df_clean = df.drop(columns=['WC', 'SA', 'OP', 'SS', 'JSc'])\n",
        "\n",
        "print(f\"Yeni sütun sayısı: {df_clean.shape[1]}\")\n",
        "\n",
        "df_clean.head()"
      ],
      "metadata": {
        "colab": {
          "base_uri": "https://localhost:8080/",
          "height": 253
        },
        "id": "yO382iiWdlPg",
        "outputId": "132474ec-913a-4eb3-ce0d-f88ee0eaa94e"
      },
      "execution_count": 7,
      "outputs": [
        {
          "output_type": "stream",
          "name": "stdout",
          "text": [
            "Yeni sütun sayısı: 76\n"
          ]
        },
        {
          "output_type": "execute_result",
          "data": {
            "text/plain": [
              "   Gender  Age  Marital  Education  TLS1  TLS2  TLS3  TLS4  TLS5  TLS6  ...  \\\n",
              "0     1.0  2.0      1.0        4.0   6.0   6.0   6.0   2.0   4.0   6.0  ...   \n",
              "1     2.0  1.0      1.0        4.0   6.0   6.0   6.0   5.0   2.0   4.0  ...   \n",
              "2     2.0  2.0      2.0        3.0   6.0   6.0   6.0   6.0   6.0   6.0  ...   \n",
              "3     1.0  2.0      2.0        5.0   6.0   6.0   4.0   6.0   5.0   6.0  ...   \n",
              "4     2.0  2.0      2.0        4.0   6.0   6.0   6.0   6.0   6.0   5.0  ...   \n",
              "\n",
              "    IS   IC   CR  MEA  MEP  IDI2  IM2  IS2  IC2  JSc2  \n",
              "0  2.0  1.0  3.0  4.0  2.6   4.8  5.2  4.4  6.0   3.4  \n",
              "1  2.4  2.0  2.8  5.0  3.4   5.0  4.0  4.8  4.6   4.8  \n",
              "2  2.0  1.0  1.0  6.0  2.0   6.0  6.0  6.0  6.0   6.0  \n",
              "3  2.2  1.0  1.8  5.4  5.0   5.4  5.6  5.6  6.0   3.4  \n",
              "4  3.0  3.0  3.4  5.8  4.4   6.0  5.0  5.0  5.0   4.4  \n",
              "\n",
              "[5 rows x 76 columns]"
            ],
            "text/html": [
              "\n",
              "  <div id=\"df-e0898c75-a638-4345-8cec-e549b3e29d46\" class=\"colab-df-container\">\n",
              "    <div>\n",
              "<style scoped>\n",
              "    .dataframe tbody tr th:only-of-type {\n",
              "        vertical-align: middle;\n",
              "    }\n",
              "\n",
              "    .dataframe tbody tr th {\n",
              "        vertical-align: top;\n",
              "    }\n",
              "\n",
              "    .dataframe thead th {\n",
              "        text-align: right;\n",
              "    }\n",
              "</style>\n",
              "<table border=\"1\" class=\"dataframe\">\n",
              "  <thead>\n",
              "    <tr style=\"text-align: right;\">\n",
              "      <th></th>\n",
              "      <th>Gender</th>\n",
              "      <th>Age</th>\n",
              "      <th>Marital</th>\n",
              "      <th>Education</th>\n",
              "      <th>TLS1</th>\n",
              "      <th>TLS2</th>\n",
              "      <th>TLS3</th>\n",
              "      <th>TLS4</th>\n",
              "      <th>TLS5</th>\n",
              "      <th>TLS6</th>\n",
              "      <th>...</th>\n",
              "      <th>IS</th>\n",
              "      <th>IC</th>\n",
              "      <th>CR</th>\n",
              "      <th>MEA</th>\n",
              "      <th>MEP</th>\n",
              "      <th>IDI2</th>\n",
              "      <th>IM2</th>\n",
              "      <th>IS2</th>\n",
              "      <th>IC2</th>\n",
              "      <th>JSc2</th>\n",
              "    </tr>\n",
              "  </thead>\n",
              "  <tbody>\n",
              "    <tr>\n",
              "      <th>0</th>\n",
              "      <td>1.0</td>\n",
              "      <td>2.0</td>\n",
              "      <td>1.0</td>\n",
              "      <td>4.0</td>\n",
              "      <td>6.0</td>\n",
              "      <td>6.0</td>\n",
              "      <td>6.0</td>\n",
              "      <td>2.0</td>\n",
              "      <td>4.0</td>\n",
              "      <td>6.0</td>\n",
              "      <td>...</td>\n",
              "      <td>2.0</td>\n",
              "      <td>1.0</td>\n",
              "      <td>3.0</td>\n",
              "      <td>4.0</td>\n",
              "      <td>2.6</td>\n",
              "      <td>4.8</td>\n",
              "      <td>5.2</td>\n",
              "      <td>4.4</td>\n",
              "      <td>6.0</td>\n",
              "      <td>3.4</td>\n",
              "    </tr>\n",
              "    <tr>\n",
              "      <th>1</th>\n",
              "      <td>2.0</td>\n",
              "      <td>1.0</td>\n",
              "      <td>1.0</td>\n",
              "      <td>4.0</td>\n",
              "      <td>6.0</td>\n",
              "      <td>6.0</td>\n",
              "      <td>6.0</td>\n",
              "      <td>5.0</td>\n",
              "      <td>2.0</td>\n",
              "      <td>4.0</td>\n",
              "      <td>...</td>\n",
              "      <td>2.4</td>\n",
              "      <td>2.0</td>\n",
              "      <td>2.8</td>\n",
              "      <td>5.0</td>\n",
              "      <td>3.4</td>\n",
              "      <td>5.0</td>\n",
              "      <td>4.0</td>\n",
              "      <td>4.8</td>\n",
              "      <td>4.6</td>\n",
              "      <td>4.8</td>\n",
              "    </tr>\n",
              "    <tr>\n",
              "      <th>2</th>\n",
              "      <td>2.0</td>\n",
              "      <td>2.0</td>\n",
              "      <td>2.0</td>\n",
              "      <td>3.0</td>\n",
              "      <td>6.0</td>\n",
              "      <td>6.0</td>\n",
              "      <td>6.0</td>\n",
              "      <td>6.0</td>\n",
              "      <td>6.0</td>\n",
              "      <td>6.0</td>\n",
              "      <td>...</td>\n",
              "      <td>2.0</td>\n",
              "      <td>1.0</td>\n",
              "      <td>1.0</td>\n",
              "      <td>6.0</td>\n",
              "      <td>2.0</td>\n",
              "      <td>6.0</td>\n",
              "      <td>6.0</td>\n",
              "      <td>6.0</td>\n",
              "      <td>6.0</td>\n",
              "      <td>6.0</td>\n",
              "    </tr>\n",
              "    <tr>\n",
              "      <th>3</th>\n",
              "      <td>1.0</td>\n",
              "      <td>2.0</td>\n",
              "      <td>2.0</td>\n",
              "      <td>5.0</td>\n",
              "      <td>6.0</td>\n",
              "      <td>6.0</td>\n",
              "      <td>4.0</td>\n",
              "      <td>6.0</td>\n",
              "      <td>5.0</td>\n",
              "      <td>6.0</td>\n",
              "      <td>...</td>\n",
              "      <td>2.2</td>\n",
              "      <td>1.0</td>\n",
              "      <td>1.8</td>\n",
              "      <td>5.4</td>\n",
              "      <td>5.0</td>\n",
              "      <td>5.4</td>\n",
              "      <td>5.6</td>\n",
              "      <td>5.6</td>\n",
              "      <td>6.0</td>\n",
              "      <td>3.4</td>\n",
              "    </tr>\n",
              "    <tr>\n",
              "      <th>4</th>\n",
              "      <td>2.0</td>\n",
              "      <td>2.0</td>\n",
              "      <td>2.0</td>\n",
              "      <td>4.0</td>\n",
              "      <td>6.0</td>\n",
              "      <td>6.0</td>\n",
              "      <td>6.0</td>\n",
              "      <td>6.0</td>\n",
              "      <td>6.0</td>\n",
              "      <td>5.0</td>\n",
              "      <td>...</td>\n",
              "      <td>3.0</td>\n",
              "      <td>3.0</td>\n",
              "      <td>3.4</td>\n",
              "      <td>5.8</td>\n",
              "      <td>4.4</td>\n",
              "      <td>6.0</td>\n",
              "      <td>5.0</td>\n",
              "      <td>5.0</td>\n",
              "      <td>5.0</td>\n",
              "      <td>4.4</td>\n",
              "    </tr>\n",
              "  </tbody>\n",
              "</table>\n",
              "<p>5 rows × 76 columns</p>\n",
              "</div>\n",
              "    <div class=\"colab-df-buttons\">\n",
              "\n",
              "  <div class=\"colab-df-container\">\n",
              "    <button class=\"colab-df-convert\" onclick=\"convertToInteractive('df-e0898c75-a638-4345-8cec-e549b3e29d46')\"\n",
              "            title=\"Convert this dataframe to an interactive table.\"\n",
              "            style=\"display:none;\">\n",
              "\n",
              "  <svg xmlns=\"http://www.w3.org/2000/svg\" height=\"24px\" viewBox=\"0 -960 960 960\">\n",
              "    <path d=\"M120-120v-720h720v720H120Zm60-500h600v-160H180v160Zm220 220h160v-160H400v160Zm0 220h160v-160H400v160ZM180-400h160v-160H180v160Zm440 0h160v-160H620v160ZM180-180h160v-160H180v160Zm440 0h160v-160H620v160Z\"/>\n",
              "  </svg>\n",
              "    </button>\n",
              "\n",
              "  <style>\n",
              "    .colab-df-container {\n",
              "      display:flex;\n",
              "      gap: 12px;\n",
              "    }\n",
              "\n",
              "    .colab-df-convert {\n",
              "      background-color: #E8F0FE;\n",
              "      border: none;\n",
              "      border-radius: 50%;\n",
              "      cursor: pointer;\n",
              "      display: none;\n",
              "      fill: #1967D2;\n",
              "      height: 32px;\n",
              "      padding: 0 0 0 0;\n",
              "      width: 32px;\n",
              "    }\n",
              "\n",
              "    .colab-df-convert:hover {\n",
              "      background-color: #E2EBFA;\n",
              "      box-shadow: 0px 1px 2px rgba(60, 64, 67, 0.3), 0px 1px 3px 1px rgba(60, 64, 67, 0.15);\n",
              "      fill: #174EA6;\n",
              "    }\n",
              "\n",
              "    .colab-df-buttons div {\n",
              "      margin-bottom: 4px;\n",
              "    }\n",
              "\n",
              "    [theme=dark] .colab-df-convert {\n",
              "      background-color: #3B4455;\n",
              "      fill: #D2E3FC;\n",
              "    }\n",
              "\n",
              "    [theme=dark] .colab-df-convert:hover {\n",
              "      background-color: #434B5C;\n",
              "      box-shadow: 0px 1px 3px 1px rgba(0, 0, 0, 0.15);\n",
              "      filter: drop-shadow(0px 1px 2px rgba(0, 0, 0, 0.3));\n",
              "      fill: #FFFFFF;\n",
              "    }\n",
              "  </style>\n",
              "\n",
              "    <script>\n",
              "      const buttonEl =\n",
              "        document.querySelector('#df-e0898c75-a638-4345-8cec-e549b3e29d46 button.colab-df-convert');\n",
              "      buttonEl.style.display =\n",
              "        google.colab.kernel.accessAllowed ? 'block' : 'none';\n",
              "\n",
              "      async function convertToInteractive(key) {\n",
              "        const element = document.querySelector('#df-e0898c75-a638-4345-8cec-e549b3e29d46');\n",
              "        const dataTable =\n",
              "          await google.colab.kernel.invokeFunction('convertToInteractive',\n",
              "                                                    [key], {});\n",
              "        if (!dataTable) return;\n",
              "\n",
              "        const docLinkHtml = 'Like what you see? Visit the ' +\n",
              "          '<a target=\"_blank\" href=https://colab.research.google.com/notebooks/data_table.ipynb>data table notebook</a>'\n",
              "          + ' to learn more about interactive tables.';\n",
              "        element.innerHTML = '';\n",
              "        dataTable['output_type'] = 'display_data';\n",
              "        await google.colab.output.renderOutput(dataTable, element);\n",
              "        const docLink = document.createElement('div');\n",
              "        docLink.innerHTML = docLinkHtml;\n",
              "        element.appendChild(docLink);\n",
              "      }\n",
              "    </script>\n",
              "  </div>\n",
              "\n",
              "\n",
              "    <div id=\"df-88a92ec0-58f6-44f4-9e50-0c10ad358ef7\">\n",
              "      <button class=\"colab-df-quickchart\" onclick=\"quickchart('df-88a92ec0-58f6-44f4-9e50-0c10ad358ef7')\"\n",
              "                title=\"Suggest charts\"\n",
              "                style=\"display:none;\">\n",
              "\n",
              "<svg xmlns=\"http://www.w3.org/2000/svg\" height=\"24px\"viewBox=\"0 0 24 24\"\n",
              "     width=\"24px\">\n",
              "    <g>\n",
              "        <path d=\"M19 3H5c-1.1 0-2 .9-2 2v14c0 1.1.9 2 2 2h14c1.1 0 2-.9 2-2V5c0-1.1-.9-2-2-2zM9 17H7v-7h2v7zm4 0h-2V7h2v10zm4 0h-2v-4h2v4z\"/>\n",
              "    </g>\n",
              "</svg>\n",
              "      </button>\n",
              "\n",
              "<style>\n",
              "  .colab-df-quickchart {\n",
              "      --bg-color: #E8F0FE;\n",
              "      --fill-color: #1967D2;\n",
              "      --hover-bg-color: #E2EBFA;\n",
              "      --hover-fill-color: #174EA6;\n",
              "      --disabled-fill-color: #AAA;\n",
              "      --disabled-bg-color: #DDD;\n",
              "  }\n",
              "\n",
              "  [theme=dark] .colab-df-quickchart {\n",
              "      --bg-color: #3B4455;\n",
              "      --fill-color: #D2E3FC;\n",
              "      --hover-bg-color: #434B5C;\n",
              "      --hover-fill-color: #FFFFFF;\n",
              "      --disabled-bg-color: #3B4455;\n",
              "      --disabled-fill-color: #666;\n",
              "  }\n",
              "\n",
              "  .colab-df-quickchart {\n",
              "    background-color: var(--bg-color);\n",
              "    border: none;\n",
              "    border-radius: 50%;\n",
              "    cursor: pointer;\n",
              "    display: none;\n",
              "    fill: var(--fill-color);\n",
              "    height: 32px;\n",
              "    padding: 0;\n",
              "    width: 32px;\n",
              "  }\n",
              "\n",
              "  .colab-df-quickchart:hover {\n",
              "    background-color: var(--hover-bg-color);\n",
              "    box-shadow: 0 1px 2px rgba(60, 64, 67, 0.3), 0 1px 3px 1px rgba(60, 64, 67, 0.15);\n",
              "    fill: var(--button-hover-fill-color);\n",
              "  }\n",
              "\n",
              "  .colab-df-quickchart-complete:disabled,\n",
              "  .colab-df-quickchart-complete:disabled:hover {\n",
              "    background-color: var(--disabled-bg-color);\n",
              "    fill: var(--disabled-fill-color);\n",
              "    box-shadow: none;\n",
              "  }\n",
              "\n",
              "  .colab-df-spinner {\n",
              "    border: 2px solid var(--fill-color);\n",
              "    border-color: transparent;\n",
              "    border-bottom-color: var(--fill-color);\n",
              "    animation:\n",
              "      spin 1s steps(1) infinite;\n",
              "  }\n",
              "\n",
              "  @keyframes spin {\n",
              "    0% {\n",
              "      border-color: transparent;\n",
              "      border-bottom-color: var(--fill-color);\n",
              "      border-left-color: var(--fill-color);\n",
              "    }\n",
              "    20% {\n",
              "      border-color: transparent;\n",
              "      border-left-color: var(--fill-color);\n",
              "      border-top-color: var(--fill-color);\n",
              "    }\n",
              "    30% {\n",
              "      border-color: transparent;\n",
              "      border-left-color: var(--fill-color);\n",
              "      border-top-color: var(--fill-color);\n",
              "      border-right-color: var(--fill-color);\n",
              "    }\n",
              "    40% {\n",
              "      border-color: transparent;\n",
              "      border-right-color: var(--fill-color);\n",
              "      border-top-color: var(--fill-color);\n",
              "    }\n",
              "    60% {\n",
              "      border-color: transparent;\n",
              "      border-right-color: var(--fill-color);\n",
              "    }\n",
              "    80% {\n",
              "      border-color: transparent;\n",
              "      border-right-color: var(--fill-color);\n",
              "      border-bottom-color: var(--fill-color);\n",
              "    }\n",
              "    90% {\n",
              "      border-color: transparent;\n",
              "      border-bottom-color: var(--fill-color);\n",
              "    }\n",
              "  }\n",
              "</style>\n",
              "\n",
              "      <script>\n",
              "        async function quickchart(key) {\n",
              "          const quickchartButtonEl =\n",
              "            document.querySelector('#' + key + ' button');\n",
              "          quickchartButtonEl.disabled = true;  // To prevent multiple clicks.\n",
              "          quickchartButtonEl.classList.add('colab-df-spinner');\n",
              "          try {\n",
              "            const charts = await google.colab.kernel.invokeFunction(\n",
              "                'suggestCharts', [key], {});\n",
              "          } catch (error) {\n",
              "            console.error('Error during call to suggestCharts:', error);\n",
              "          }\n",
              "          quickchartButtonEl.classList.remove('colab-df-spinner');\n",
              "          quickchartButtonEl.classList.add('colab-df-quickchart-complete');\n",
              "        }\n",
              "        (() => {\n",
              "          let quickchartButtonEl =\n",
              "            document.querySelector('#df-88a92ec0-58f6-44f4-9e50-0c10ad358ef7 button');\n",
              "          quickchartButtonEl.style.display =\n",
              "            google.colab.kernel.accessAllowed ? 'block' : 'none';\n",
              "        })();\n",
              "      </script>\n",
              "    </div>\n",
              "\n",
              "    </div>\n",
              "  </div>\n"
            ],
            "application/vnd.google.colaboratory.intrinsic+json": {
              "type": "dataframe",
              "variable_name": "df_clean"
            }
          },
          "metadata": {},
          "execution_count": 7
        }
      ]
    },
    {
      "cell_type": "code",
      "source": [
        "meta.column_labels"
      ],
      "metadata": {
        "colab": {
          "base_uri": "https://localhost:8080/"
        },
        "id": "RliBRGUOeZe0",
        "outputId": "fbe8e2c0-654a-4522-8a78-ba7633cfa3f0",
        "collapsed": true
      },
      "execution_count": 8,
      "outputs": [
        {
          "output_type": "execute_result",
          "data": {
            "text/plain": [
              "['Gender of Respondent',\n",
              " 'Age of Respondent',\n",
              " 'Marital status of Respondent',\n",
              " 'Educational level of Respondent',\n",
              " 'TLS1 of Respondent',\n",
              " 'TLS2 of Respondent',\n",
              " 'TLS3 of Respondent',\n",
              " 'TLS4 of Respondent',\n",
              " 'TLS5 of Respondent',\n",
              " 'TLS6 of Respondent',\n",
              " 'TLS7 of Respondent',\n",
              " 'TLS8 of Respondent',\n",
              " 'TLS9 of Respondent',\n",
              " 'TLS10 of Respondent',\n",
              " 'TLS11 of Respondent',\n",
              " 'TLS12 of Respondent',\n",
              " 'TLS13 of Respondent',\n",
              " 'TLS14 of Respondent',\n",
              " 'TLS15 of Respondent',\n",
              " 'TLS16 of Respondent',\n",
              " 'TLS17 of Respondent',\n",
              " 'TLS18 of Respondent',\n",
              " 'TLS19 of Respondent',\n",
              " 'TLS20 of Respondent',\n",
              " 'TRLS21 of Respondent',\n",
              " 'TRLS22 of Respondent',\n",
              " 'TRLS23 of Respondent',\n",
              " 'TRLS24 of Respondent',\n",
              " 'TRLS25 of Respondent',\n",
              " 'TRLS26 of Respondent',\n",
              " 'TRLS27 of Respondent',\n",
              " 'TRLS28 of Respondent',\n",
              " 'TRLS29 of Respondent',\n",
              " 'TRLS30 of Respondent',\n",
              " 'TRLS31 of Respondent',\n",
              " 'TRLS32 of Respondent',\n",
              " 'TRLS33 of Respondent',\n",
              " 'TRLS34 of Respondent',\n",
              " 'TRLS35 of Respondent',\n",
              " 'JS36 of Respondent',\n",
              " 'JS37 of Respondent',\n",
              " 'JS38 of Respondent',\n",
              " 'JS39 of Respondent',\n",
              " 'JS40 of Respondent',\n",
              " 'JS41 of Respondent',\n",
              " 'JS42 of Respondent',\n",
              " 'JS43 of Respondent',\n",
              " 'JS44 of Respondent',\n",
              " 'JS45 of Respondent',\n",
              " 'JS46 of Respondent',\n",
              " 'JS47 of Respondent',\n",
              " 'JS48 of Respondent',\n",
              " 'JS49 of Respondent',\n",
              " 'JS50 of Respondent',\n",
              " 'JS51 of Respondent',\n",
              " 'JS52 of Respondent',\n",
              " 'JS53 of Respondent',\n",
              " 'JS54 of Respondent',\n",
              " 'JS55 of Respondent',\n",
              " 'JS56 of Respondent',\n",
              " 'JS57 of Respondent',\n",
              " 'JS58 of Respondent',\n",
              " 'JS59 of Respondent',\n",
              " 'JS60 of Respondent',\n",
              " None,\n",
              " None,\n",
              " None,\n",
              " None,\n",
              " None,\n",
              " None,\n",
              " None,\n",
              " None,\n",
              " None,\n",
              " None,\n",
              " None,\n",
              " None,\n",
              " None,\n",
              " None,\n",
              " None,\n",
              " None,\n",
              " None]"
            ]
          },
          "metadata": {},
          "execution_count": 8
        }
      ]
    },
    {
      "cell_type": "code",
      "source": [
        "df_clean = df.dropna(axis=1, how='all')\n",
        "print(f\"Yeni sütun sayısı: {df_clean.shape[1]}\")"
      ],
      "metadata": {
        "colab": {
          "base_uri": "https://localhost:8080/"
        },
        "id": "OeH4KmsVepLa",
        "outputId": "a9bcdd8a-390c-411f-c1b8-73841f7429a9"
      },
      "execution_count": 9,
      "outputs": [
        {
          "output_type": "stream",
          "name": "stdout",
          "text": [
            "Yeni sütun sayısı: 76\n"
          ]
        }
      ]
    },
    {
      "cell_type": "code",
      "source": [
        "df_clean['Transformational_L'] = df_clean.loc[:, 'TLS1':'TLS20'].mean(axis=1)\n",
        "df_clean['Transactional_L'] = df_clean.loc[:, 'TRLS21':'TRLS35'].mean(axis=1)\n",
        "df_clean['Job_Satisfaction'] = df_clean.loc[:, 'JS36':'JS60'].mean(axis=1)\n",
        "\n",
        "df_clean[['Transformational_L', 'Transactional_L', 'Job_Satisfaction']].head()"
      ],
      "metadata": {
        "colab": {
          "base_uri": "https://localhost:8080/",
          "height": 206
        },
        "id": "CzgUVgfpet5p",
        "outputId": "24df8875-b42f-46ea-81e1-cc1407dd8e6a"
      },
      "execution_count": 10,
      "outputs": [
        {
          "output_type": "execute_result",
          "data": {
            "text/plain": [
              "   Transformational_L  Transactional_L  Job_Satisfaction\n",
              "0                5.10         3.133333              3.52\n",
              "1                4.60         3.466667              3.96\n",
              "2                6.00         6.000000              6.00\n",
              "3                5.65         2.800000              4.04\n",
              "4                5.25         2.866667              4.28"
            ],
            "text/html": [
              "\n",
              "  <div id=\"df-dd3e6240-5434-4a9e-8872-7df4c5610f4f\" class=\"colab-df-container\">\n",
              "    <div>\n",
              "<style scoped>\n",
              "    .dataframe tbody tr th:only-of-type {\n",
              "        vertical-align: middle;\n",
              "    }\n",
              "\n",
              "    .dataframe tbody tr th {\n",
              "        vertical-align: top;\n",
              "    }\n",
              "\n",
              "    .dataframe thead th {\n",
              "        text-align: right;\n",
              "    }\n",
              "</style>\n",
              "<table border=\"1\" class=\"dataframe\">\n",
              "  <thead>\n",
              "    <tr style=\"text-align: right;\">\n",
              "      <th></th>\n",
              "      <th>Transformational_L</th>\n",
              "      <th>Transactional_L</th>\n",
              "      <th>Job_Satisfaction</th>\n",
              "    </tr>\n",
              "  </thead>\n",
              "  <tbody>\n",
              "    <tr>\n",
              "      <th>0</th>\n",
              "      <td>5.10</td>\n",
              "      <td>3.133333</td>\n",
              "      <td>3.52</td>\n",
              "    </tr>\n",
              "    <tr>\n",
              "      <th>1</th>\n",
              "      <td>4.60</td>\n",
              "      <td>3.466667</td>\n",
              "      <td>3.96</td>\n",
              "    </tr>\n",
              "    <tr>\n",
              "      <th>2</th>\n",
              "      <td>6.00</td>\n",
              "      <td>6.000000</td>\n",
              "      <td>6.00</td>\n",
              "    </tr>\n",
              "    <tr>\n",
              "      <th>3</th>\n",
              "      <td>5.65</td>\n",
              "      <td>2.800000</td>\n",
              "      <td>4.04</td>\n",
              "    </tr>\n",
              "    <tr>\n",
              "      <th>4</th>\n",
              "      <td>5.25</td>\n",
              "      <td>2.866667</td>\n",
              "      <td>4.28</td>\n",
              "    </tr>\n",
              "  </tbody>\n",
              "</table>\n",
              "</div>\n",
              "    <div class=\"colab-df-buttons\">\n",
              "\n",
              "  <div class=\"colab-df-container\">\n",
              "    <button class=\"colab-df-convert\" onclick=\"convertToInteractive('df-dd3e6240-5434-4a9e-8872-7df4c5610f4f')\"\n",
              "            title=\"Convert this dataframe to an interactive table.\"\n",
              "            style=\"display:none;\">\n",
              "\n",
              "  <svg xmlns=\"http://www.w3.org/2000/svg\" height=\"24px\" viewBox=\"0 -960 960 960\">\n",
              "    <path d=\"M120-120v-720h720v720H120Zm60-500h600v-160H180v160Zm220 220h160v-160H400v160Zm0 220h160v-160H400v160ZM180-400h160v-160H180v160Zm440 0h160v-160H620v160ZM180-180h160v-160H180v160Zm440 0h160v-160H620v160Z\"/>\n",
              "  </svg>\n",
              "    </button>\n",
              "\n",
              "  <style>\n",
              "    .colab-df-container {\n",
              "      display:flex;\n",
              "      gap: 12px;\n",
              "    }\n",
              "\n",
              "    .colab-df-convert {\n",
              "      background-color: #E8F0FE;\n",
              "      border: none;\n",
              "      border-radius: 50%;\n",
              "      cursor: pointer;\n",
              "      display: none;\n",
              "      fill: #1967D2;\n",
              "      height: 32px;\n",
              "      padding: 0 0 0 0;\n",
              "      width: 32px;\n",
              "    }\n",
              "\n",
              "    .colab-df-convert:hover {\n",
              "      background-color: #E2EBFA;\n",
              "      box-shadow: 0px 1px 2px rgba(60, 64, 67, 0.3), 0px 1px 3px 1px rgba(60, 64, 67, 0.15);\n",
              "      fill: #174EA6;\n",
              "    }\n",
              "\n",
              "    .colab-df-buttons div {\n",
              "      margin-bottom: 4px;\n",
              "    }\n",
              "\n",
              "    [theme=dark] .colab-df-convert {\n",
              "      background-color: #3B4455;\n",
              "      fill: #D2E3FC;\n",
              "    }\n",
              "\n",
              "    [theme=dark] .colab-df-convert:hover {\n",
              "      background-color: #434B5C;\n",
              "      box-shadow: 0px 1px 3px 1px rgba(0, 0, 0, 0.15);\n",
              "      filter: drop-shadow(0px 1px 2px rgba(0, 0, 0, 0.3));\n",
              "      fill: #FFFFFF;\n",
              "    }\n",
              "  </style>\n",
              "\n",
              "    <script>\n",
              "      const buttonEl =\n",
              "        document.querySelector('#df-dd3e6240-5434-4a9e-8872-7df4c5610f4f button.colab-df-convert');\n",
              "      buttonEl.style.display =\n",
              "        google.colab.kernel.accessAllowed ? 'block' : 'none';\n",
              "\n",
              "      async function convertToInteractive(key) {\n",
              "        const element = document.querySelector('#df-dd3e6240-5434-4a9e-8872-7df4c5610f4f');\n",
              "        const dataTable =\n",
              "          await google.colab.kernel.invokeFunction('convertToInteractive',\n",
              "                                                    [key], {});\n",
              "        if (!dataTable) return;\n",
              "\n",
              "        const docLinkHtml = 'Like what you see? Visit the ' +\n",
              "          '<a target=\"_blank\" href=https://colab.research.google.com/notebooks/data_table.ipynb>data table notebook</a>'\n",
              "          + ' to learn more about interactive tables.';\n",
              "        element.innerHTML = '';\n",
              "        dataTable['output_type'] = 'display_data';\n",
              "        await google.colab.output.renderOutput(dataTable, element);\n",
              "        const docLink = document.createElement('div');\n",
              "        docLink.innerHTML = docLinkHtml;\n",
              "        element.appendChild(docLink);\n",
              "      }\n",
              "    </script>\n",
              "  </div>\n",
              "\n",
              "\n",
              "    <div id=\"df-4d67d99b-62b0-4be9-987b-898ae5e4edb9\">\n",
              "      <button class=\"colab-df-quickchart\" onclick=\"quickchart('df-4d67d99b-62b0-4be9-987b-898ae5e4edb9')\"\n",
              "                title=\"Suggest charts\"\n",
              "                style=\"display:none;\">\n",
              "\n",
              "<svg xmlns=\"http://www.w3.org/2000/svg\" height=\"24px\"viewBox=\"0 0 24 24\"\n",
              "     width=\"24px\">\n",
              "    <g>\n",
              "        <path d=\"M19 3H5c-1.1 0-2 .9-2 2v14c0 1.1.9 2 2 2h14c1.1 0 2-.9 2-2V5c0-1.1-.9-2-2-2zM9 17H7v-7h2v7zm4 0h-2V7h2v10zm4 0h-2v-4h2v4z\"/>\n",
              "    </g>\n",
              "</svg>\n",
              "      </button>\n",
              "\n",
              "<style>\n",
              "  .colab-df-quickchart {\n",
              "      --bg-color: #E8F0FE;\n",
              "      --fill-color: #1967D2;\n",
              "      --hover-bg-color: #E2EBFA;\n",
              "      --hover-fill-color: #174EA6;\n",
              "      --disabled-fill-color: #AAA;\n",
              "      --disabled-bg-color: #DDD;\n",
              "  }\n",
              "\n",
              "  [theme=dark] .colab-df-quickchart {\n",
              "      --bg-color: #3B4455;\n",
              "      --fill-color: #D2E3FC;\n",
              "      --hover-bg-color: #434B5C;\n",
              "      --hover-fill-color: #FFFFFF;\n",
              "      --disabled-bg-color: #3B4455;\n",
              "      --disabled-fill-color: #666;\n",
              "  }\n",
              "\n",
              "  .colab-df-quickchart {\n",
              "    background-color: var(--bg-color);\n",
              "    border: none;\n",
              "    border-radius: 50%;\n",
              "    cursor: pointer;\n",
              "    display: none;\n",
              "    fill: var(--fill-color);\n",
              "    height: 32px;\n",
              "    padding: 0;\n",
              "    width: 32px;\n",
              "  }\n",
              "\n",
              "  .colab-df-quickchart:hover {\n",
              "    background-color: var(--hover-bg-color);\n",
              "    box-shadow: 0 1px 2px rgba(60, 64, 67, 0.3), 0 1px 3px 1px rgba(60, 64, 67, 0.15);\n",
              "    fill: var(--button-hover-fill-color);\n",
              "  }\n",
              "\n",
              "  .colab-df-quickchart-complete:disabled,\n",
              "  .colab-df-quickchart-complete:disabled:hover {\n",
              "    background-color: var(--disabled-bg-color);\n",
              "    fill: var(--disabled-fill-color);\n",
              "    box-shadow: none;\n",
              "  }\n",
              "\n",
              "  .colab-df-spinner {\n",
              "    border: 2px solid var(--fill-color);\n",
              "    border-color: transparent;\n",
              "    border-bottom-color: var(--fill-color);\n",
              "    animation:\n",
              "      spin 1s steps(1) infinite;\n",
              "  }\n",
              "\n",
              "  @keyframes spin {\n",
              "    0% {\n",
              "      border-color: transparent;\n",
              "      border-bottom-color: var(--fill-color);\n",
              "      border-left-color: var(--fill-color);\n",
              "    }\n",
              "    20% {\n",
              "      border-color: transparent;\n",
              "      border-left-color: var(--fill-color);\n",
              "      border-top-color: var(--fill-color);\n",
              "    }\n",
              "    30% {\n",
              "      border-color: transparent;\n",
              "      border-left-color: var(--fill-color);\n",
              "      border-top-color: var(--fill-color);\n",
              "      border-right-color: var(--fill-color);\n",
              "    }\n",
              "    40% {\n",
              "      border-color: transparent;\n",
              "      border-right-color: var(--fill-color);\n",
              "      border-top-color: var(--fill-color);\n",
              "    }\n",
              "    60% {\n",
              "      border-color: transparent;\n",
              "      border-right-color: var(--fill-color);\n",
              "    }\n",
              "    80% {\n",
              "      border-color: transparent;\n",
              "      border-right-color: var(--fill-color);\n",
              "      border-bottom-color: var(--fill-color);\n",
              "    }\n",
              "    90% {\n",
              "      border-color: transparent;\n",
              "      border-bottom-color: var(--fill-color);\n",
              "    }\n",
              "  }\n",
              "</style>\n",
              "\n",
              "      <script>\n",
              "        async function quickchart(key) {\n",
              "          const quickchartButtonEl =\n",
              "            document.querySelector('#' + key + ' button');\n",
              "          quickchartButtonEl.disabled = true;  // To prevent multiple clicks.\n",
              "          quickchartButtonEl.classList.add('colab-df-spinner');\n",
              "          try {\n",
              "            const charts = await google.colab.kernel.invokeFunction(\n",
              "                'suggestCharts', [key], {});\n",
              "          } catch (error) {\n",
              "            console.error('Error during call to suggestCharts:', error);\n",
              "          }\n",
              "          quickchartButtonEl.classList.remove('colab-df-spinner');\n",
              "          quickchartButtonEl.classList.add('colab-df-quickchart-complete');\n",
              "        }\n",
              "        (() => {\n",
              "          let quickchartButtonEl =\n",
              "            document.querySelector('#df-4d67d99b-62b0-4be9-987b-898ae5e4edb9 button');\n",
              "          quickchartButtonEl.style.display =\n",
              "            google.colab.kernel.accessAllowed ? 'block' : 'none';\n",
              "        })();\n",
              "      </script>\n",
              "    </div>\n",
              "\n",
              "    </div>\n",
              "  </div>\n"
            ],
            "application/vnd.google.colaboratory.intrinsic+json": {
              "type": "dataframe",
              "summary": "{\n  \"name\": \"df_clean[['Transformational_L', 'Transactional_L', 'Job_Satisfaction']]\",\n  \"rows\": 5,\n  \"fields\": [\n    {\n      \"column\": \"Transformational_L\",\n      \"properties\": {\n        \"dtype\": \"number\",\n        \"std\": 0.534555890436164,\n        \"min\": 4.6,\n        \"max\": 6.0,\n        \"num_unique_values\": 5,\n        \"samples\": [\n          4.6,\n          5.25,\n          6.0\n        ],\n        \"semantic_type\": \"\",\n        \"description\": \"\"\n      }\n    },\n    {\n      \"column\": \"Transactional_L\",\n      \"properties\": {\n        \"dtype\": \"number\",\n        \"std\": 1.337825765104626,\n        \"min\": 2.8,\n        \"max\": 6.0,\n        \"num_unique_values\": 5,\n        \"samples\": [\n          3.466666666666667,\n          2.8666666666666667,\n          6.0\n        ],\n        \"semantic_type\": \"\",\n        \"description\": \"\"\n      }\n    },\n    {\n      \"column\": \"Job_Satisfaction\",\n      \"properties\": {\n        \"dtype\": \"number\",\n        \"std\": 0.957078889120432,\n        \"min\": 3.52,\n        \"max\": 6.0,\n        \"num_unique_values\": 5,\n        \"samples\": [\n          3.96,\n          4.28,\n          6.0\n        ],\n        \"semantic_type\": \"\",\n        \"description\": \"\"\n      }\n    }\n  ]\n}"
            }
          },
          "metadata": {},
          "execution_count": 10
        }
      ]
    },
    {
      "cell_type": "markdown",
      "source": [
        "# Korelasyon Analizi\n",
        "\n",
        ">Üç temel değişken (Transformational, Transactional ve Job Satisfaction) arasındaki ilişkiler korelasyon matrisi ile analiz edilmiştir."
      ],
      "metadata": {
        "id": "TYMu67Y2e1L6"
      }
    },
    {
      "cell_type": "code",
      "source": [
        "corr_matrix = df_clean[['Transformational_L', 'Transactional_L', 'Job_Satisfaction']].corr()\n",
        "\n",
        "plt.figure(figsize=(6, 4))\n",
        "sns.heatmap(corr_matrix, annot=True, cmap='coolwarm', vmin=-1, vmax=1, fmt=\".2f\")\n",
        "plt.title(\"Korelasyon Matrisi\")\n",
        "plt.show()"
      ],
      "metadata": {
        "colab": {
          "base_uri": "https://localhost:8080/",
          "height": 391
        },
        "id": "VEAhObYde2Ir",
        "outputId": "acb4278d-03ac-4be9-f898-7f2005b72c60"
      },
      "execution_count": 11,
      "outputs": [
        {
          "output_type": "display_data",
          "data": {
            "text/plain": [
              "<Figure size 600x400 with 2 Axes>"
            ],
            "image/png": "[encoded data removed]"
          },
          "metadata": {}
        }
      ]
    },
    {
      "cell_type": "markdown",
      "source": [
        "| Değişkenler                                 | Korelasyon Değeri | Yorum                                                                                                                                                                                 |\n",
        "| ------------------------------------------- | ----------------- | ------------------------------------------------------------------------------------------------------------------------------------------------------------------------------------- |\n",
        "| **Transformational\\_L ↔ Job\\_Satisfaction** | **0.71**          | Dönüşümcü liderlik ile iş tatmini arasında **güçlü bir pozitif ilişki** var. Yani çalışanlar, dönüşümcü liderlik tarzında yönetildiklerinde işlerinden **daha çok memnun** oluyorlar. |\n",
        "| **Transactional\\_L ↔ Job\\_Satisfaction**    | **0.54**          | Etkileşimci liderlik ile iş tatmini arasında **orta düzeyde pozitif ilişki** var. Bu tarz da iş tatminini artırıyor, ama dönüşümcü liderlik kadar etkili değil.                       |\n",
        "| **Transformational\\_L ↔ Transactional\\_L**  | **0.55**          | Bu iki liderlik tarzı arasında **orta düzeyde ilişki** var. Bu da bazı liderlerin her iki tarzı da birlikte kullanabildiğini gösterebilir.                                            |\n"
      ],
      "metadata": {
        "id": "kTlQXRCBz4-s"
      }
    },
    {
      "cell_type": "markdown",
      "source": [
        "# Regresyon Analizi (statsmodels ile)\n",
        "\n",
        ">Liderlik tarzlarının iş tatmini üzerindeki etkisini ölçmek için çoklu doğrusal regresyon modeli oluşturulmuştur."
      ],
      "metadata": {
        "id": "4H2tdHeyfcCc"
      }
    },
    {
      "cell_type": "code",
      "source": [
        "y = df_clean['Job_Satisfaction']\n",
        "\n",
        "X = df_clean[['Transformational_L', 'Transactional_L']]\n",
        "X = sm.add_constant(X)\n",
        "\n",
        "model = sm.OLS(y, X).fit()\n",
        "print(model.summary())\n"
      ],
      "metadata": {
        "colab": {
          "base_uri": "https://localhost:8080/"
        },
        "id": "3RqA-J3NfKtW",
        "outputId": "4f4d29a0-3e29-401b-efd4-44c0667d11f1"
      },
      "execution_count": 12,
      "outputs": [
        {
          "output_type": "stream",
          "name": "stdout",
          "text": [
            "                            OLS Regression Results                            \n",
            "==============================================================================\n",
            "Dep. Variable:       Job_Satisfaction   R-squared:                       0.539\n",
            "Model:                            OLS   Adj. R-squared:                  0.537\n",
            "Method:                 Least Squares   F-statistic:                     188.0\n",
            "Date:                Wed, 02 Jul 2025   Prob (F-statistic):           9.16e-55\n",
            "Time:                        06:58:56   Log-Likelihood:                -350.69\n",
            "No. Observations:                 324   AIC:                             707.4\n",
            "Df Residuals:                     321   BIC:                             718.7\n",
            "Df Model:                           2                                         \n",
            "Covariance Type:            nonrobust                                         \n",
            "======================================================================================\n",
            "                         coef    std err          t      P>|t|      [0.025      0.975]\n",
            "--------------------------------------------------------------------------------------\n",
            "const                  0.5834      0.186      3.144      0.002       0.218       0.948\n",
            "Transformational_L     0.5469      0.042     13.035      0.000       0.464       0.629\n",
            "Transactional_L        0.2754      0.056      4.898      0.000       0.165       0.386\n",
            "==============================================================================\n",
            "Omnibus:                       97.178   Durbin-Watson:                   1.864\n",
            "Prob(Omnibus):                  0.000   Jarque-Bera (JB):              260.987\n",
            "Skew:                          -1.400   Prob(JB):                     2.13e-57\n",
            "Kurtosis:                       6.390   Cond. No.                         27.6\n",
            "==============================================================================\n",
            "\n",
            "Notes:\n",
            "[1] Standard Errors assume that the covariance matrix of the errors is correctly specified.\n"
          ]
        }
      ]
    },
    {
      "cell_type": "markdown",
      "source": [
        "## Hata Dağılım Grafiği (Residual Plot)"
      ],
      "metadata": {
        "id": "Yq7d-281nCU5"
      }
    },
    {
      "cell_type": "code",
      "source": [
        "y_true = df_clean['Job_Satisfaction']\n",
        "y_pred = model.predict(X)\n",
        "\n",
        "plt.figure(figsize=(8, 6))\n",
        "plt.scatter(y_true, y_pred, alpha=0.7)\n",
        "plt.plot([y_true.min(), y_true.max()], [y_true.min(), y_true.max()], 'r--')\n",
        "plt.xlabel('Gerçek İş Tatmini')\n",
        "plt.ylabel('Tahmin Edilen İş Tatmini')\n",
        "plt.title('Gerçek vs Tahmin Edilen Değerler (Regresyon Modeli)')\n",
        "plt.grid(True)\n",
        "plt.show()"
      ],
      "metadata": {
        "colab": {
          "base_uri": "https://localhost:8080/",
          "height": 566
        },
        "id": "ngKHKM0mlYJt",
        "outputId": "5d1930ff-ae02-4d91-f31e-7e1eca86c9d4"
      },
      "execution_count": 13,
      "outputs": [
        {
          "output_type": "display_data",
          "data": {
            "text/plain": [
              "<Figure size 800x600 with 1 Axes>"
            ],
            "image/png": "[encoded data removed]"
          },
          "metadata": {}
        }
      ]
    },
    {
      "cell_type": "code",
      "source": [
        "residuals = y_true - y_pred\n",
        "\n",
        "plt.figure(figsize=(6,4))\n",
        "plt.scatter(y_pred, residuals, alpha=0.6)\n",
        "plt.axhline(0, color='red', linestyle='--')\n",
        "plt.xlabel(\"Tahmin Edilen İş Tatmini\")\n",
        "plt.ylabel(\"Hata (Gerçek - Tahmin)\")\n",
        "plt.title(\"Regresyon Modeli Hata Dağılımı\")\n",
        "plt.grid(True)\n",
        "plt.show()"
      ],
      "metadata": {
        "colab": {
          "base_uri": "https://localhost:8080/",
          "height": 412
        },
        "id": "A4ok_CLgmGaa",
        "outputId": "bf1b0d91-ef6c-4549-fbcc-403956154386"
      },
      "execution_count": 14,
      "outputs": [
        {
          "output_type": "display_data",
          "data": {
            "text/plain": [
              "<Figure size 600x400 with 1 Axes>"
            ],
            "image/png": "[encoded data removed]"
          },
          "metadata": {}
        }
      ]
    },
    {
      "cell_type": "markdown",
      "source": [
        "## Hata Histogramı:"
      ],
      "metadata": {
        "id": "RX--GlOFm2ii"
      }
    },
    {
      "cell_type": "code",
      "source": [
        "plt.figure(figsize=(6,4))\n",
        "plt.hist(residuals, bins=20, edgecolor='black')\n",
        "plt.title(\"Regresyon Hatalarının Histogramı\")\n",
        "plt.xlabel(\"Hata\")\n",
        "plt.ylabel(\"Frekans\")\n",
        "plt.grid(True)\n",
        "plt.show()"
      ],
      "metadata": {
        "colab": {
          "base_uri": "https://localhost:8080/",
          "height": 410
        },
        "id": "84vqnteimKO0",
        "outputId": "03e8fd01-faf2-4e4f-9b5e-ee0e08c790de"
      },
      "execution_count": 15,
      "outputs": [
        {
          "output_type": "display_data",
          "data": {
            "text/plain": [
              "<Figure size 600x400 with 1 Axes>"
            ],
            "image/png": "[encoded data removed]"
          },
          "metadata": {}
        }
      ]
    },
    {
      "cell_type": "markdown",
      "source": [
        "## Q-Q Plot (Hataların Normalliği)"
      ],
      "metadata": {
        "id": "rnwMJwRDmzSc"
      }
    },
    {
      "cell_type": "code",
      "source": [
        "import scipy.stats as stats\n",
        "import statsmodels.api as sm\n",
        "\n",
        "sm.qqplot(residuals, line='45')\n",
        "plt.title(\"Q-Q Plot: Hataların Normalliği\")\n",
        "plt.show()"
      ],
      "metadata": {
        "colab": {
          "base_uri": "https://localhost:8080/",
          "height": 472
        },
        "id": "K_rdxb58mcid",
        "outputId": "928a2c40-0591-4cac-9d42-a0200f626189"
      },
      "execution_count": 16,
      "outputs": [
        {
          "output_type": "display_data",
          "data": {
            "text/plain": [
              "<Figure size 640x480 with 1 Axes>"
            ],
            "image/png": "[encoded data removed]"
          },
          "metadata": {}
        }
      ]
    },
    {
      "cell_type": "markdown",
      "source": [
        ">Noktaların önemli bir kısmı kırmızı referans doğrusu etrafında sıralanmıştır.\n",
        ">\n",
        ">Bu durum, hataların yaklaşık olarak normal dağıldığını gösterir.\n",
        ">\n",
        ">Aşırı uçlardaki sapmalar modelin her koşulda mükemmel tahmin yapamadığını gösterse de, genel olarak model geçerliliğini korumaktadır."
      ],
      "metadata": {
        "id": "xfbpD9cpmt5o"
      }
    },
    {
      "cell_type": "markdown",
      "source": [
        ">Hem dönüşümcü hem de etkileşimci liderlik tarzları çalışanların iş tatminini artırmaktadır.\n",
        ">\n",
        ">Ancak dönüşümcü liderliğin etkisi daha güçlüdür.\n",
        ">\n",
        ">İşletmelerin çalışan memnuniyetini artırmak için vizyoner, ilham verici ve destekleyici liderlik yaklaşımlarını teşvik etmesi önerilir."
      ],
      "metadata": {
        "id": "DPaZqlN9foBB"
      }
    },
    {
      "cell_type": "markdown",
      "source": [
        "# Demografik Değişkenlere Göre İş Tatmini"
      ],
      "metadata": {
        "id": "AO1ZjRgMkv2U"
      }
    },
    {
      "cell_type": "code",
      "source": [
        "sns.set_style(\"whitegrid\")\n",
        "\n",
        "plt.figure(figsize=(6,4))\n",
        "sns.boxplot(x='Gender', y='Job_Satisfaction', data=df_clean)\n",
        "plt.title(\"Cinsiyete Göre İş Tatmini Dağılımı\")\n",
        "plt.xticks([0, 1], ['Kadın', 'Erkek'])\n",
        "plt.show()\n",
        "\n",
        "plt.figure(figsize=(6,4))\n",
        "sns.boxplot(x='Marital', y='Job_Satisfaction', data=df_clean)\n",
        "plt.title(\"Medeni Duruma Göre İş Tatmini Dağılımı\")\n",
        "plt.xticks([0, 1], ['Bekar', 'Evli'])\n",
        "plt.show()\n",
        "\n",
        "plt.figure(figsize=(8,4))\n",
        "sns.boxplot(x='Education', y='Job_Satisfaction', data=df_clean)\n",
        "plt.title(\"Eğitim Düzeyine Göre İş Tatmini Dağılımı\")\n",
        "plt.show()"
      ],
      "metadata": {
        "colab": {
          "base_uri": "https://localhost:8080/",
          "height": 1000
        },
        "id": "gPFtmmBUfrH-",
        "outputId": "3c14933b-110a-48a9-be1f-b109d98c9bd5"
      },
      "execution_count": 17,
      "outputs": [
        {
          "output_type": "display_data",
          "data": {
            "text/plain": [
              "<Figure size 600x400 with 1 Axes>"
            ],
            "image/png": "[encoded data removed]"
          },
          "metadata": {}
        },
        {
          "output_type": "display_data",
          "data": {
            "text/plain": [
              "<Figure size 600x400 with 1 Axes>"
            ],
            "image/png": "[encoded data removed]"
          },
          "metadata": {}
        },
        {
          "output_type": "display_data",
          "data": {
            "text/plain": [
              "<Figure size 800x400 with 1 Axes>"
            ],
            "image/png": "[encoded data removed]"
          },
          "metadata": {}
        }
      ]
    },
    {
      "cell_type": "markdown",
      "source": [
        ">Cinsiyete Göre İş Tatmini;\n",
        ">\n",
        ">- Kadın ve erkek çalışanların iş tatmini dağılımı benzer.\n",
        ">\n",
        ">- Ortalamalar birbirine yakın olsa da kadınlarda üst sınır biraz daha yüksek gözüküyor.\n",
        ">\n",
        ">- Aykırı değerler (outlier) genelde kadın grubunda daha fazla.\n",
        ">\n",
        ">Medeni Duruma Göre İş Tatmini;\n",
        ">\n",
        ">- Evli ve bekar çalışanların iş tatmini düzeyleri arasında belirgin bir fark yok.\n",
        ">\n",
        ">- Dağılımlar ve medyan değerler oldukça benzer.\n",
        ">\n",
        ">Eğitim Düzeyine Göre İş Tatmini;\n",
        ">\n",
        ">- Eğitim düzeyi arttıkça iş tatmini önce artıyor gibi görünse de, özellikle 5. seviyeden sonra bir dalgalanma oluşuyor.\n",
        ">\n",
        ">- 6 ve 7. seviyelerde daha istikrarlı (ve ortalamanın biraz üstünde) bir iş tatmini gözlemleniyor.\n",
        ">\n",
        ">- Bu durum, yüksek lisans/doktora seviyesinde çalışanların tatmin düzeyinin daha dengeli olduğunu gösterebilir."
      ],
      "metadata": {
        "id": "O_JiaJ1egLuG"
      }
    },
    {
      "cell_type": "markdown",
      "source": [
        " # ANOVA Analizi (Eğitim Düzeyi Etkisi)\n",
        "\n",
        " >Eğitim düzeyi gruplarının iş tatmini düzeyleri arasında istatistiksel fark olup olmadığı tek yönlü ANOVA testiyle analiz edilmiştir."
      ],
      "metadata": {
        "id": "Cc1pslJxk0ud"
      }
    },
    {
      "cell_type": "code",
      "source": [
        "from scipy.stats import f_oneway\n",
        "\n",
        "groups = [group['Job_Satisfaction'].values for name, group in df_clean.groupby('Education')]\n",
        "\n",
        "f_stat, p_val = f_oneway(*groups)\n",
        "\n",
        "print(\"ANOVA F istatistiği:\", round(f_stat, 3))\n",
        "print(\"p-değeri:\", round(p_val, 4))"
      ],
      "metadata": {
        "colab": {
          "base_uri": "https://localhost:8080/"
        },
        "id": "dsrU8faEgyCO",
        "outputId": "6917ef91-3d3e-4877-9347-8c4b092b0023"
      },
      "execution_count": 18,
      "outputs": [
        {
          "output_type": "stream",
          "name": "stdout",
          "text": [
            "ANOVA F istatistiği: 6.988\n",
            "p-değeri: 0.0\n"
          ]
        }
      ]
    },
    {
      "cell_type": "markdown",
      "source": [
        ">Eğitim düzeyine göre iş tatmini düzeyleri arasında istatistiksel olarak anlamlı fark vardır. Yani bireylerin eğitim seviyesi arttıkça veya azaldıkça iş tatmin düzeyleri değişmektedir."
      ],
      "metadata": {
        "id": "cE0ii-FvhF9a"
      }
    },
    {
      "cell_type": "markdown",
      "source": [
        "# Liderlik Tarzlarının Karşılaştırılması (T-Testi)\n",
        "\n",
        ">Dönüşümcü ve etkileşimci liderlik algısı puanları eşleştirilmiş örneklem t-testi ile karşılaştırılmıştır."
      ],
      "metadata": {
        "id": "TQUHJR4Ik397"
      }
    },
    {
      "cell_type": "code",
      "source": [
        "from scipy.stats import ttest_rel\n",
        "\n",
        "t_stat, p_val = ttest_rel(df_clean['Transformational_L'], df_clean['Transactional_L'])\n",
        "\n",
        "print(f\"t-istatistiği: {t_stat:.3f}\")\n",
        "print(f\"p-değeri: {p_val:.4f}\")"
      ],
      "metadata": {
        "colab": {
          "base_uri": "https://localhost:8080/"
        },
        "id": "guz_AXsphHxz",
        "outputId": "94fffacb-e11d-46f9-8f39-1f0a5ce35e7b"
      },
      "execution_count": 19,
      "outputs": [
        {
          "output_type": "stream",
          "name": "stdout",
          "text": [
            "t-istatistiği: 18.016\n",
            "p-değeri: 0.0000\n"
          ]
        }
      ]
    },
    {
      "cell_type": "code",
      "source": [
        "print(\"Transformational_L Ortalama:\", df_clean['Transformational_L'].mean())\n",
        "print(\"Transactional_L Ortalama:\", df_clean['Transactional_L'].mean())"
      ],
      "metadata": {
        "colab": {
          "base_uri": "https://localhost:8080/"
        },
        "id": "OEtwR0GwhYdm",
        "outputId": "e5249caa-004e-4b32-c0d6-8495e0263484"
      },
      "execution_count": 20,
      "outputs": [
        {
          "output_type": "stream",
          "name": "stdout",
          "text": [
            "Transformational_L Ortalama: 4.433333333333334\n",
            "Transactional_L Ortalama: 3.454115226337448\n"
          ]
        }
      ]
    },
    {
      "cell_type": "markdown",
      "source": [
        ">Yorum:\n",
        ">\n",
        ">- p-değeri < 0.05 olduğu için, istatistiksel olarak anlamlı bir fark vardır.\n",
        ">\n",
        ">- Katılımcılar dönüşümcü liderliği (Transformational_L), etkileşimci liderliğe (Transactional_L) kıyasla önemli ölçüde daha yüksek puanlamış.\n",
        ">\n",
        ">- Bu sonuç, dönüşümcü liderliğin çalışanlar tarafından daha olumlu algılandığını veya daha etkili bulunduğunu gösterir."
      ],
      "metadata": {
        "id": "9Kplp3x2hmPk"
      }
    },
    {
      "cell_type": "code",
      "source": [
        "df['Transformational_L'] = df[[f'TLS{i}' for i in range(1, 21)]].mean(axis=1)\n",
        "df['Transactional_L'] = df[[f'TRLS{i}' for i in range(21, 36)]].mean(axis=1)\n",
        "df['Job_Satisfaction'] = df[[f'JS{i}' for i in range(36, 61)]].mean(axis=1)"
      ],
      "metadata": {
        "id": "CCsclfZO8EBO"
      },
      "execution_count": 24,
      "outputs": []
    },
    {
      "cell_type": "code",
      "source": [
        "transformational_mean = df['Transformational_L'].mean()\n",
        "transactional_mean = df['Transactional_L'].mean()\n",
        "\n",
        "transformational_std = df['Transformational_L'].std()\n",
        "transactional_std = df['Transactional_L'].std()\n",
        "\n",
        "cohen_d = (transformational_mean - transactional_mean) / np.sqrt((transformational_std**2 + transactional_std**2) / 2)\n",
        "\n",
        "plt.figure(figsize=(6, 4))\n",
        "sns.barplot(x=[\"Dönüşümcü\", \"Etkileşimci\"], y=[transformational_mean, transactional_mean])\n",
        "plt.title(f\"Liderlik Tarzlarının İş Tatmini Ortalamalarına Etkisi\\nEtki Büyüklüğü (Cohen's d): {cohen_d:.2f}\")\n",
        "plt.ylabel(\"Ortalama Puan\")\n",
        "plt.tight_layout()\n",
        "plt.show()"
      ],
      "metadata": {
        "colab": {
          "base_uri": "https://localhost:8080/",
          "height": 407
        },
        "id": "mScfnTbD8GQK",
        "outputId": "10111bc3-0dbe-4904-8b9a-ee3dad1efd39"
      },
      "execution_count": 25,
      "outputs": [
        {
          "output_type": "display_data",
          "data": {
            "text/plain": [
              "<Figure size 600x400 with 1 Axes>"
            ],
            "image/png": "[encoded data removed]"
          },
          "metadata": {}
        }
      ]
    },
    {
      "cell_type": "markdown",
      "source": [
        ">Bu grafikte dönüşümcü ve etkileşimci liderlik tarzlarının çalışan iş tatmini üzerindeki etkisi karşılaştırılmıştır. Ortalama puanlar açısından dönüşümcü liderlik tarzı daha yüksek bir iş tatmini ile ilişkilidir. Cohen’s d değeri 0.98 olup, bu farkın büyük bir etki büyüklüğüne karşılık geldiğini göstermektedir. Bu sonuç, dönüşümcü liderlik tarzının çalışanların iş tatminini artırma konusunda daha etkili olduğunu göstermektedir."
      ],
      "metadata": {
        "id": "3RyiIdOS8gc0"
      }
    },
    {
      "cell_type": "markdown",
      "source": [
        "# 💡 Temel Bulgular\n",
        "\n",
        ">Bu çalışmada elde edilen bulgular, Ohunakin et al. (2018) tarafından yapılan ampirik araştırmayla örtüşmektedir. Her iki çalışmada da dönüşümcü liderliğin, çalışan iş tatmini üzerinde daha güçlü ve anlamlı bir etkisi olduğu sonucuna ulaşılmıştır.\n",
        "\n",
        "🔹 Dönüşümcü liderlik, iş tatminini daha fazla artıran liderlik türüdür.\n",
        "\n",
        "🔹 Katılımcılar dönüşümcü liderliği anlamlı şekilde daha olumlu değerlendirmiştir (t-testi).\n",
        "\n",
        "🔹 Eğitim düzeyine göre iş tatmininde istatistiksel olarak anlamlı farklılıklar vardır (ANOVA, p < 0.05).\n",
        "\n",
        "🔹 Cinsiyet ve medeni durum açısından iş tatmini dağılımları benzer çıkmıştır."
      ],
      "metadata": {
        "id": "BUMVvpbajpwb"
      }
    },
    {
      "cell_type": "markdown",
      "source": [
        "\n",
        "\n",
        "---\n",
        "\n",
        "\n",
        ">Bu çalışma yalnızca teknik bir veri analizi projesi değildir. Aynı zamanda, tarafımdan yüksek lisans eğitimim kapsamında yürütülmüş olan \"Dönüşümcü Liderliğin İşletme Kârlılığına Etkisi\" başlıklı bitirme projemin bir devamı niteliğindedir.\n",
        ">\n",
        ">Yüksek lisans sürecimde sınırlı zaman ve kaynak nedeniyle ampirik (veriye dayalı) analiz gerçekleştirme imkânım olmamıştı. Ancak bu proje ile, dönüşümcü ve etkileşimci liderlik tarzlarının çalışan iş tatmini üzerindeki etkisi veri destekli biçimde analiz edilmiştir.\n",
        ">\n",
        ">Çalışma, hem kişisel merakımı derinleştirme hem de daha önceki akademik araştırmamı nicel verilere dayalı hale getirme amacıyla hazırlanmıştır.\n",
        ">\n",
        ">Sonuçlar, dönüşümcü liderliğin yalnızca çalışan tatmini değil, dolaylı olarak işletme verimliliği ve uzun vadeli kârlılığı da olumlu yönde etkileyebileceği fikrini destekler niteliktedir.\n",
        "\n",
        "\n",
        "---\n",
        "\n",
        "\n"
      ],
      "metadata": {
        "id": "cUlQJZci33Yy"
      }
    }
  ]
}